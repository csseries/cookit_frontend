{
 "cells": [
  {
   "cell_type": "markdown",
   "id": "3fbf472a",
   "metadata": {},
   "source": [
    "# Query database and return recipes "
   ]
  },
  {
   "cell_type": "code",
   "execution_count": 71,
   "id": "76e697cb",
   "metadata": {},
   "outputs": [],
   "source": [
    "import psycopg2\n",
    "import os"
   ]
  },
  {
   "cell_type": "code",
   "execution_count": 72,
   "id": "0e98f936",
   "metadata": {},
   "outputs": [],
   "source": [
    "DB_PASSWORD = os.environ['DB_PASSWORD']"
   ]
  },
  {
   "cell_type": "code",
   "execution_count": 73,
   "id": "e6bfe9dd",
   "metadata": {},
   "outputs": [],
   "source": [
    "conn = psycopg2.connect(database=\"d1hsr1c7nk56dl\", user = \"iadkkqrgljveni\", host = \"ec2-3-230-61-252.compute-1.amazonaws.com\", port = \"5432\", password=DB_PASSWORD)"
   ]
  },
  {
   "cell_type": "code",
   "execution_count": 74,
   "id": "a3930b77",
   "metadata": {},
   "outputs": [],
   "source": [
    "cur = conn.cursor()"
   ]
  },
  {
   "cell_type": "code",
   "execution_count": 75,
   "id": "7126e161",
   "metadata": {
    "scrolled": true
   },
   "outputs": [],
   "source": [
    "cur.execute('''SELECT *\n",
    "FROM recipes \n",
    "WHERE title LIKE '%Brownie%';''')"
   ]
  },
  {
   "cell_type": "code",
   "execution_count": 76,
   "id": "f6b886c8",
   "metadata": {},
   "outputs": [],
   "source": [
    "rows = cur.fetchall()"
   ]
  },
  {
   "cell_type": "code",
   "execution_count": 77,
   "id": "3264f83f",
   "metadata": {},
   "outputs": [
    {
     "name": "stdout",
     "output_type": "stream",
     "text": [
      "(0, '10 Minute Brownies', 'Moderate', '45 min', 'https://recipes.lewagon.com/recipes/668', 'https://spoonacular.com/recipeImages/631830-556x370.jpg', ['1 teaspoon baking powder', '1/4 cup canola oil', '3/4 cup finely-chopped walnuts', '1 cup semisweet chocolate chips', '3/4 cup sugar', '1 cup unbleached flour', '1/2 cup unsweetened applesauce', '1 teaspoon pure vanilla extract'], ['American'])\n",
      "(33, 'Apple Walnut Brownies', 'Easy', '75 min', 'https://recipes.lewagon.com/recipes/680', 'https://spoonacular.com/recipeImages/632611-556x370.jpg', ['180g baking chocolate, chop to pieces', 'Brown sugar (40g)', '120g Butter', '1/2 tsp Cinnamon powder', '2 Eggs', '1 Green apple (shredded), remove the apple skin and chop to large cubes', '70g Self rising flour', '150g Semi-sweet chocolate', '1 tsp Vanilla extract', '60g Walnut, toasted and break into half', '100g Whipping cream'], ['American'])\n",
      "(120, 'Brownie Cheesecake', 'Moderate', '45 min', 'https://recipes.lewagon.com/recipes/750', 'https://spoonacular.com/recipeImages/636325-556x370.jpg', ['1-1 1/2 cups dry chocolate cake or cookie crumbs, depending on how much crust you like', '2 pounds cream cheese, at room temperature', '2 eggs', '1 1/2 cups granulated sugar', '@16 1/2- 3/4 inch brownies', 'A pinch of salt', '1/2 cup sugar (add another 1/4 to 1/2 cup if you like it sweet)', '1/2 cup unsalted butter', '1 teaspoon vanilla'], ['American'])\n",
      "(121, 'Brownie Coffins', 'Hard', '45 min', 'https://recipes.lewagon.com/recipes/555', 'https://spoonacular.com/recipeImages/636328-556x370.jpg', ['2 eggs', '1/2 cup unsalted butter', '1/2 cup sugar (add another 1/4 to 1/2 cup if you like it sweet)', '1 teaspoon vanilla extract', '1/3 cup dark chocolate cocoa powder', '1/2 cup flour', '1/4 teaspoon baking powder', 'a pinch of salt', 'Melted white chocolate, to decorate', 'candy pen and sprinkles, to decorate'], ['American'])\n",
      "(150, 'Caramel Apple-Brownie Cheesecake', 'Easy', '45 min', 'https://recipes.lewagon.com/recipes/605', 'https://spoonacular.com/recipeImages/636989-556x370.jpg', ['1 1/2 cups baking apples (e.g. Granny Smith or Cortland), peeled and diced**', '2 1/2 teaspoons baking powder', '1/2 cup firmly packed light brown sugar', '1/2 cup butter', '12 oz cream cheese', '3 eggs', '1 1/2 cups flour', '2 tablespoons granulated sugar', '2 tablespoons ground cinnamon', '1/4 cup chopped pecans', '1/2 teaspoon salt', '** Baking Apples are apples that have a good sweet-tart balance and hold their shape when cooked.', '4 teaspoons vanilla extract'], [])\n",
      "(214, 'Chocolate and Szechuan Peppercorn Brownies', 'Hard', '45 min', 'https://recipes.lewagon.com/recipes/591', 'https://spoonacular.com/recipeImages/638816-556x370.jpg', ['\\\\xc2\\\\xbe cup brown sugar', '185 gr butter', '1 cinnamon stick, broken', '3 eggs, beaten', '1 tablespoon espresso', '3 cups all-purpose flour', '\\\\xc2\\\\xbd cup granulated sugar', '1/3 cup heavy cream', '\\\\xc2\\\\xbc teaspoon kosher salt', '1 tablespoon milk', '1 tablespoon Szechuan peppercorns', '1/3 cup semisweet chocolate chips', '1 ounce unsweetened chocolate', '\\\\xc2\\\\xbe cup unsweetened cocoa powder', '2 teaspoons vanilla extract'], ['American'])\n",
      "(321, 'Dulce De Leche Brownies', 'Hard', '45 min', 'https://recipes.lewagon.com/recipes/558', 'https://spoonacular.com/recipeImages/641726-556x370.jpg', ['1/4 teaspoon baking soda', '1/2 cup butter, cut into cubes', 'dulce de leche', '3 eggs', '1 1/4 cups flour', '1 tablespoon instant espresso powder', '1 1/4 cups semisweet chocolate chip', '1/2 cup sugar', '1 tablespoon vanilla extract'], ['American'])\n",
      "(421, 'Healthy Vegan Red Velvet Brownies', 'Moderate', '45 min', 'https://recipes.lewagon.com/recipes/813', 'https://spoonacular.com/recipeImages/646524-556x370.jpg', ['1/2 tsp almond extract', '4 tablespoons apple sauce', '3/4 tsp baking powder', '1/8 tsp baking soda', '1/2 cup cooked beets', '3/4 cup brown sugar', '1/2 cup cocoa powder', '1/2 cup ground flaxseed', '1 cup red kidney beans', '1/8 tsp salt', '1 tsp vanilla extract'], ['American'])\n",
      "(519, 'No-Bake Fudge Brandy Brownies', 'Easy', '45 min', 'https://recipes.lewagon.com/recipes/344', 'https://spoonacular.com/recipeImages/653192-556x370.jpg', ['1 1/2 tablespoons brandy', '1/4 cup butter', '1/2 14 ounce can condensed milk', '1 1/4 cups Oreo crumbs (about 14 cookies)', '1/2 teaspoon vanilla extract', '1 c. chopped walnuts'], ['American'])\n",
      "(544, 'PB Cup Stuffed Brownie Bites', 'Hard', '45 min', 'https://recipes.lewagon.com/recipes/998', 'https://spoonacular.com/recipeImages/655043-556x370.jpg', ['2 cups granulated sugar', '1 \\\\xc2\\\\xbe cups flour', '5 eggs', '1 teaspoon salt', '1 cup vegetable oil', '1 teaspoon vanilla', '\\\\xc2\\\\xbd cup cocoa powder', \"\\\\xc2\\\\xbd cup semi sweet chocolate chips (1 cup if you don't want to stuff the brownie bites)\", \"About 60 mini Reese's peanut butter cups\"], ['American'])\n"
     ]
    }
   ],
   "source": [
    "for row in rows:\n",
    "    print(row)"
   ]
  },
  {
   "cell_type": "code",
   "execution_count": 78,
   "id": "0b27c450",
   "metadata": {},
   "outputs": [
    {
     "ename": "UndefinedFunction",
     "evalue": "operator does not exist: text[] ~~ unknown\nLINE 3: WHERE ingredients LIKE '%tomato%' AND ingredients LIKE'%cucu...\n                          ^\nHINT:  No operator matches the given name and argument types. You might need to add explicit type casts.\n",
     "output_type": "error",
     "traceback": [
      "\u001b[0;31m---------------------------------------------------------------------------\u001b[0m",
      "\u001b[0;31mUndefinedFunction\u001b[0m                         Traceback (most recent call last)",
      "\u001b[0;32m/var/folders/_2/296ny7317vl9y654vhv2vy_w0000gn/T/ipykernel_10898/3417051142.py\u001b[0m in \u001b[0;36m<module>\u001b[0;34m\u001b[0m\n\u001b[0;32m----> 1\u001b[0;31m cur.execute('''SELECT *\n\u001b[0m\u001b[1;32m      2\u001b[0m \u001b[0mFROM\u001b[0m \u001b[0mrecipes\u001b[0m\u001b[0;34m\u001b[0m\u001b[0;34m\u001b[0m\u001b[0m\n\u001b[1;32m      3\u001b[0m WHERE ingredients LIKE '%tomato%' AND ingredients LIKE'%cucumber%';''')\n",
      "\u001b[0;31mUndefinedFunction\u001b[0m: operator does not exist: text[] ~~ unknown\nLINE 3: WHERE ingredients LIKE '%tomato%' AND ingredients LIKE'%cucu...\n                          ^\nHINT:  No operator matches the given name and argument types. You might need to add explicit type casts.\n"
     ]
    }
   ],
   "source": [
    "cur.execute('''SELECT *\n",
    "FROM recipes \n",
    "WHERE ingredients LIKE '%tomato%' AND ingredients LIKE'%cucumber%';''')"
   ]
  },
  {
   "cell_type": "code",
   "execution_count": 79,
   "id": "38734558",
   "metadata": {},
   "outputs": [],
   "source": [
    "conn.commit()"
   ]
  },
  {
   "cell_type": "code",
   "execution_count": 80,
   "id": "9c1b3820",
   "metadata": {},
   "outputs": [
    {
     "ename": "ProgrammingError",
     "evalue": "no results to fetch",
     "output_type": "error",
     "traceback": [
      "\u001b[0;31m---------------------------------------------------------------------------\u001b[0m",
      "\u001b[0;31mProgrammingError\u001b[0m                          Traceback (most recent call last)",
      "\u001b[0;32m/var/folders/_2/296ny7317vl9y654vhv2vy_w0000gn/T/ipykernel_10898/3529482084.py\u001b[0m in \u001b[0;36m<module>\u001b[0;34m\u001b[0m\n\u001b[0;32m----> 1\u001b[0;31m \u001b[0mrows\u001b[0m \u001b[0;34m=\u001b[0m \u001b[0mcur\u001b[0m\u001b[0;34m.\u001b[0m\u001b[0mfetchall\u001b[0m\u001b[0;34m(\u001b[0m\u001b[0;34m)\u001b[0m\u001b[0;34m\u001b[0m\u001b[0;34m\u001b[0m\u001b[0m\n\u001b[0m",
      "\u001b[0;31mProgrammingError\u001b[0m: no results to fetch"
     ]
    }
   ],
   "source": [
    "rows = cur.fetchall()"
   ]
  },
  {
   "cell_type": "code",
   "execution_count": 81,
   "id": "eef46abf",
   "metadata": {},
   "outputs": [
    {
     "data": {
      "text/plain": [
       "['180g baking chocolate, chop to pieces',\n",
       " 'Brown sugar (40g)',\n",
       " '120g Butter',\n",
       " '1/2 tsp Cinnamon powder',\n",
       " '2 Eggs',\n",
       " '1 Green apple (shredded), remove the apple skin and chop to large cubes',\n",
       " '70g Self rising flour',\n",
       " '150g Semi-sweet chocolate',\n",
       " '1 tsp Vanilla extract',\n",
       " '60g Walnut, toasted and break into half',\n",
       " '100g Whipping cream']"
      ]
     },
     "execution_count": 81,
     "metadata": {},
     "output_type": "execute_result"
    }
   ],
   "source": [
    "rows[1][6]"
   ]
  },
  {
   "cell_type": "code",
   "execution_count": null,
   "id": "de73caf9",
   "metadata": {},
   "outputs": [],
   "source": []
  }
 ],
 "metadata": {
  "kernelspec": {
   "display_name": "Python 3 (ipykernel)",
   "language": "python",
   "name": "python3"
  },
  "language_info": {
   "codemirror_mode": {
    "name": "ipython",
    "version": 3
   },
   "file_extension": ".py",
   "mimetype": "text/x-python",
   "name": "python",
   "nbconvert_exporter": "python",
   "pygments_lexer": "ipython3",
   "version": "3.8.6"
  },
  "toc": {
   "base_numbering": 1,
   "nav_menu": {},
   "number_sections": true,
   "sideBar": true,
   "skip_h1_title": false,
   "title_cell": "Table of Contents",
   "title_sidebar": "Contents",
   "toc_cell": false,
   "toc_position": {},
   "toc_section_display": true,
   "toc_window_display": false
  }
 },
 "nbformat": 4,
 "nbformat_minor": 5
}
