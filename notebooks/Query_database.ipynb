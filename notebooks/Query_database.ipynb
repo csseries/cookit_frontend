{
 "cells": [
  {
   "cell_type": "markdown",
   "id": "3fbf472a",
   "metadata": {},
   "source": [
    "# Query database and return recipes "
   ]
  },
  {
   "cell_type": "code",
   "execution_count": 1,
   "id": "76e697cb",
   "metadata": {},
   "outputs": [],
   "source": [
    "import psycopg2\n",
    "import os"
   ]
  },
  {
   "cell_type": "code",
   "execution_count": 2,
   "id": "0e98f936",
   "metadata": {},
   "outputs": [],
   "source": [
    "DB_PASSWORD = os.environ['DB_PASSWORD']"
   ]
  },
  {
   "cell_type": "code",
   "execution_count": 3,
   "id": "e6bfe9dd",
   "metadata": {},
   "outputs": [],
   "source": [
    "conn = psycopg2.connect(database=\"d1hsr1c7nk56dl\", user = \"iadkkqrgljveni\", host = \"ec2-3-230-61-252.compute-1.amazonaws.com\", port = \"5432\", password=DB_PASSWORD)"
   ]
  },
  {
   "cell_type": "code",
   "execution_count": 33,
   "id": "8a0fb8e8",
   "metadata": {},
   "outputs": [],
   "source": [
    "cur = conn.cursor()"
   ]
  },
  {
   "cell_type": "code",
   "execution_count": 34,
   "id": "3fe1d8b1",
   "metadata": {},
   "outputs": [],
   "source": [
    "cur.execute('''SELECT *\n",
    "FROM recipes \n",
    "WHERE ingredients LIKE '%tomato%' AND ingredients LIKE'%cucumber%';''')"
   ]
  },
  {
   "cell_type": "code",
   "execution_count": 35,
   "id": "636c8cd6",
   "metadata": {},
   "outputs": [],
   "source": [
    "conn.commit()"
   ]
  },
  {
   "cell_type": "code",
   "execution_count": 36,
   "id": "2105b5b7",
   "metadata": {},
   "outputs": [],
   "source": [
    "rows = cur.fetchall()"
   ]
  },
  {
   "cell_type": "code",
   "execution_count": 56,
   "id": "4afcdc6f",
   "metadata": {},
   "outputs": [
    {
     "data": {
      "text/plain": [
       "'{\"6 small cucumbers, seeded and sliced\",\"1 1/2 cups crumbled feta cheese\",\"1 cup Kalamata olives, pitted and sliced\",\"3 cups diced roma tomatoes\",\"1/3 cup diced oil packed sun-dried tomatoes, drained, oil reserved\",\"1/2 red onion, sliced\",\"1 Tbsp rice vinegar (I had to use apple cider, but I think rice would be better)\",\"1/2 tsp Greek Seasoning\"}'"
      ]
     },
     "execution_count": 56,
     "metadata": {},
     "output_type": "execute_result"
    }
   ],
   "source": [
    "rows[1][6]"
   ]
  },
  {
   "cell_type": "code",
   "execution_count": 38,
   "id": "2acad3ad",
   "metadata": {},
   "outputs": [
    {
     "name": "stdout",
     "output_type": "stream",
     "text": [
      "(299, 'Cucumber and Cannellini Bean Side Salad', 'Moderate', '45 min', 'https://recipes.lewagon.com/recipes/937', 'https://spoonacular.com/recipeImages/641005-556x370.jpg', '{\"14 oz. can of artichokes \\\\\\\\xe2\\\\\\\\x80\\\\\\\\x93 drained and sliced\",\"\\\\\\\\xc2\\\\\\\\xbc tsp. black pepper\",\"15 oz. Can of cannellini beans \\\\\\\\xe2\\\\\\\\x80\\\\\\\\x93 drained\",\"5 cucumbers \\\\\\\\xe2\\\\\\\\x80\\\\\\\\x93 sliced thin\",\"\\\\\\\\xc2\\\\\\\\xbd cup fresh basil \\\\\\\\xe2\\\\\\\\x80\\\\\\\\x93 chopped\",\"1 Tbs. capers \\\\\\\\xe2\\\\\\\\x80\\\\\\\\x93 chopped plus 1 Tbs. caper juice\",\"Juice of 1 lemon\",\"3 tablespoons olive oil\",\"\\\\\\\\xc2\\\\\\\\xbd red onion \\\\\\\\xe2\\\\\\\\x80\\\\\\\\x93 sliced thin\",\"\\\\\\\\xc2\\\\\\\\xbc - \\\\\\\\xc2\\\\\\\\xbd tsp. red pepper flakes\",\"\\\\\\\\xc2\\\\\\\\xbd tsp. salt\",\"1 tablespoon sugar\",\"2 sun dried tomatoes \\\\\\\\xe2\\\\\\\\x80\\\\\\\\x93 sliced thin\",\"2 tablespoons vinegar\"}', '{}')\n",
      "(397, 'Great Greek Salad', 'Very easy', '45 min', 'https://recipes.lewagon.com/recipes/872', 'https://spoonacular.com/recipeImages/645265-556x370.jpg', '{\"6 small cucumbers, seeded and sliced\",\"1 1/2 cups crumbled feta cheese\",\"1 cup Kalamata olives, pitted and sliced\",\"3 cups diced roma tomatoes\",\"1/3 cup diced oil packed sun-dried tomatoes, drained, oil reserved\",\"1/2 red onion, sliced\",\"1 Tbsp rice vinegar (I had to use apple cider, but I think rice would be better)\",\"1/2 tsp Greek Seasoning\"}', '{Mediterranean,European,Greek}')\n",
      "(407, 'Grilled Fish With Sun Dried Tomato Relish', 'Very hard', '45 min', 'https://recipes.lewagon.com/recipes/380', 'https://spoonacular.com/recipeImages/645714-556x370.jpg', '{\"1/2 teaspoon balsamic vinegar\",\"150g cucumber\",\"1 teaspoon extra virgin olive oil\",\"5 leaves of mint or basil\",\"2 tablespoons olive oil\",\"1/2 teaspoon pepper\",\"1/2 teaspoon salt\",\"2 teaspoons sesame seeds\",\"1/2 cup Sugar\",\"120g sun-dried tomatoes in oil (oil drained)\",\"400g firm white fish fillet (I used kingklip)\"}', '{}')\n",
      "(700, 'Tomato, Cucumber & Onion Salad with Feta Cheese: Real Convenience Food', 'Moderate', '45 min', 'https://recipes.lewagon.com/recipes/890', 'https://spoonacular.com/recipeImages/716416-556x370.jpg', '{\"1-2T balsamic vinegar\",\"2t extra virgin olive oil\",\"1-2 ounces crumbled feta cheese\",\"about 2 cups mini heirloom or grape tomatoes\",\"1 kirby (aka pickling) or persian cucumber\",\"about 1/3c thinly sliced red onion\",\"salt and pepper, to taste\"}', '{}')\n"
     ]
    }
   ],
   "source": [
    "for row in rows:\n",
    "    print(row)"
   ]
  },
  {
   "cell_type": "code",
   "execution_count": null,
   "id": "b12ab261",
   "metadata": {},
   "outputs": [],
   "source": []
  }
 ],
 "metadata": {
  "kernelspec": {
   "display_name": "Python 3 (ipykernel)",
   "language": "python",
   "name": "python3"
  },
  "language_info": {
   "codemirror_mode": {
    "name": "ipython",
    "version": 3
   },
   "file_extension": ".py",
   "mimetype": "text/x-python",
   "name": "python",
   "nbconvert_exporter": "python",
   "pygments_lexer": "ipython3",
   "version": "3.8.6"
  },
  "toc": {
   "base_numbering": 1,
   "nav_menu": {},
   "number_sections": true,
   "sideBar": true,
   "skip_h1_title": false,
   "title_cell": "Table of Contents",
   "title_sidebar": "Contents",
   "toc_cell": false,
   "toc_position": {},
   "toc_section_display": true,
   "toc_window_display": false
  }
 },
 "nbformat": 4,
 "nbformat_minor": 5
}
