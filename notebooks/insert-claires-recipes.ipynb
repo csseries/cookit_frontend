{
 "cells": [
  {
   "cell_type": "markdown",
   "id": "686f6b50",
   "metadata": {},
   "source": [
    "# Notebook to insert recipes from csv into db"
   ]
  },
  {
   "cell_type": "code",
   "execution_count": 1,
   "id": "b88b1e64",
   "metadata": {},
   "outputs": [],
   "source": [
    "import psycopg2\n",
    "import os\n",
    "import pandas as pd"
   ]
  },
  {
   "cell_type": "code",
   "execution_count": 2,
   "id": "1437fc25",
   "metadata": {},
   "outputs": [],
   "source": [
    "recipes_2 = pd.read_csv(\"../raw_data/recipe_list_2010_JamieOliver.csv\")"
   ]
  },
  {
   "cell_type": "code",
   "execution_count": 9,
   "id": "5bfd856e",
   "metadata": {
    "scrolled": true
   },
   "outputs": [
    {
     "data": {
      "text/html": [
       "<div>\n",
       "<style scoped>\n",
       "    .dataframe tbody tr th:only-of-type {\n",
       "        vertical-align: middle;\n",
       "    }\n",
       "\n",
       "    .dataframe tbody tr th {\n",
       "        vertical-align: top;\n",
       "    }\n",
       "\n",
       "    .dataframe thead th {\n",
       "        text-align: right;\n",
       "    }\n",
       "</style>\n",
       "<table border=\"1\" class=\"dataframe\">\n",
       "  <thead>\n",
       "    <tr style=\"text-align: right;\">\n",
       "      <th></th>\n",
       "      <th>title</th>\n",
       "      <th>total_time</th>\n",
       "      <th>yields</th>\n",
       "      <th>ingredients</th>\n",
       "      <th>instructions</th>\n",
       "      <th>image</th>\n",
       "      <th>calories</th>\n",
       "      <th>url</th>\n",
       "      <th>cuisine</th>\n",
       "      <th>dietary_restrictions</th>\n",
       "      <th>num_of_ingredients</th>\n",
       "      <th>difficulty</th>\n",
       "    </tr>\n",
       "  </thead>\n",
       "  <tbody>\n",
       "    <tr>\n",
       "      <th>0</th>\n",
       "      <td>Strawberry Blast Smoothie</td>\n",
       "      <td>5</td>\n",
       "      <td>1 serving(s)</td>\n",
       "      <td>['1 frozen bananas, cut into small chunks', '½...</td>\n",
       "      <td>Place all ingredients into blender and blend o...</td>\n",
       "      <td>https://imagesvc.meredithcorp.io/v3/mm/image?u...</td>\n",
       "      <td>204.3 calories</td>\n",
       "      <td>https://www.allrecipes.com/recipe/258310/straw...</td>\n",
       "      <td>Not specified</td>\n",
       "      <td>Not specified</td>\n",
       "      <td>3</td>\n",
       "      <td>easy</td>\n",
       "    </tr>\n",
       "    <tr>\n",
       "      <th>1</th>\n",
       "      <td>Italian Bread Using a Bread Machine</td>\n",
       "      <td>200</td>\n",
       "      <td>2 serving(s)</td>\n",
       "      <td>['4 cups unbleached all-purpose flour', '1 tab...</td>\n",
       "      <td>Place flour, brown sugar, warm water, salt, ol...</td>\n",
       "      <td>https://imagesvc.meredithcorp.io/v3/mm/image?u...</td>\n",
       "      <td>104.5 calories</td>\n",
       "      <td>https://www.allrecipes.com/recipe/22823/italia...</td>\n",
       "      <td>Not specified</td>\n",
       "      <td>Not specified</td>\n",
       "      <td>9</td>\n",
       "      <td>hard</td>\n",
       "    </tr>\n",
       "    <tr>\n",
       "      <th>2</th>\n",
       "      <td>Banana Juice</td>\n",
       "      <td>10</td>\n",
       "      <td>2 serving(s)</td>\n",
       "      <td>['2 cups milk', '2 large ripe bananas', '2 tab...</td>\n",
       "      <td>Blend milk, bananas, pistachios, and honey in ...</td>\n",
       "      <td>https://imagesvc.meredithcorp.io/v3/mm/image?u...</td>\n",
       "      <td>320.3 calories</td>\n",
       "      <td>https://www.allrecipes.com/recipe/231608/banan...</td>\n",
       "      <td>Not specified</td>\n",
       "      <td>Not specified</td>\n",
       "      <td>4</td>\n",
       "      <td>easy</td>\n",
       "    </tr>\n",
       "    <tr>\n",
       "      <th>3</th>\n",
       "      <td>Melon Lime Cooler</td>\n",
       "      <td>40</td>\n",
       "      <td>4 serving(s)</td>\n",
       "      <td>['4 ½ cups cubed honeydew melon', '1 ½ cups li...</td>\n",
       "      <td>Place honeydew melon in a single layer on a ba...</td>\n",
       "      <td>https://imagesvc.meredithcorp.io/v3/mm/image?u...</td>\n",
       "      <td>156 calories</td>\n",
       "      <td>https://www.allrecipes.com/recipe/215354/melon...</td>\n",
       "      <td>Not specified</td>\n",
       "      <td>Not specified</td>\n",
       "      <td>4</td>\n",
       "      <td>medium</td>\n",
       "    </tr>\n",
       "    <tr>\n",
       "      <th>4</th>\n",
       "      <td>Grilled Brie and Pear Sandwich</td>\n",
       "      <td>15</td>\n",
       "      <td>1 serving(s)</td>\n",
       "      <td>['2 tablespoons butter, softened', '2 thick sl...</td>\n",
       "      <td>Generously butter one side of each slice of br...</td>\n",
       "      <td>https://imagesvc.meredithcorp.io/v3/mm/image?u...</td>\n",
       "      <td>670.3 calories</td>\n",
       "      <td>https://www.allrecipes.com/recipe/237472/grill...</td>\n",
       "      <td>Not specified</td>\n",
       "      <td>Not specified</td>\n",
       "      <td>7</td>\n",
       "      <td>medium</td>\n",
       "    </tr>\n",
       "  </tbody>\n",
       "</table>\n",
       "</div>"
      ],
      "text/plain": [
       "                                 title  total_time        yields  \\\n",
       "0            Strawberry Blast Smoothie           5  1 serving(s)   \n",
       "1  Italian Bread Using a Bread Machine         200  2 serving(s)   \n",
       "2                         Banana Juice          10  2 serving(s)   \n",
       "3                    Melon Lime Cooler          40  4 serving(s)   \n",
       "4       Grilled Brie and Pear Sandwich          15  1 serving(s)   \n",
       "\n",
       "                                         ingredients  \\\n",
       "0  ['1 frozen bananas, cut into small chunks', '½...   \n",
       "1  ['4 cups unbleached all-purpose flour', '1 tab...   \n",
       "2  ['2 cups milk', '2 large ripe bananas', '2 tab...   \n",
       "3  ['4 ½ cups cubed honeydew melon', '1 ½ cups li...   \n",
       "4  ['2 tablespoons butter, softened', '2 thick sl...   \n",
       "\n",
       "                                        instructions  \\\n",
       "0  Place all ingredients into blender and blend o...   \n",
       "1  Place flour, brown sugar, warm water, salt, ol...   \n",
       "2  Blend milk, bananas, pistachios, and honey in ...   \n",
       "3  Place honeydew melon in a single layer on a ba...   \n",
       "4  Generously butter one side of each slice of br...   \n",
       "\n",
       "                                               image        calories  \\\n",
       "0  https://imagesvc.meredithcorp.io/v3/mm/image?u...  204.3 calories   \n",
       "1  https://imagesvc.meredithcorp.io/v3/mm/image?u...  104.5 calories   \n",
       "2  https://imagesvc.meredithcorp.io/v3/mm/image?u...  320.3 calories   \n",
       "3  https://imagesvc.meredithcorp.io/v3/mm/image?u...    156 calories   \n",
       "4  https://imagesvc.meredithcorp.io/v3/mm/image?u...  670.3 calories   \n",
       "\n",
       "                                                 url        cuisine  \\\n",
       "0  https://www.allrecipes.com/recipe/258310/straw...  Not specified   \n",
       "1  https://www.allrecipes.com/recipe/22823/italia...  Not specified   \n",
       "2  https://www.allrecipes.com/recipe/231608/banan...  Not specified   \n",
       "3  https://www.allrecipes.com/recipe/215354/melon...  Not specified   \n",
       "4  https://www.allrecipes.com/recipe/237472/grill...  Not specified   \n",
       "\n",
       "  dietary_restrictions  num_of_ingredients difficulty  \n",
       "0        Not specified                   3       easy  \n",
       "1        Not specified                   9       hard  \n",
       "2        Not specified                   4       easy  \n",
       "3        Not specified                   4     medium  \n",
       "4        Not specified                   7     medium  "
      ]
     },
     "execution_count": 9,
     "metadata": {},
     "output_type": "execute_result"
    }
   ],
   "source": [
    "recipes_2.head(5)"
   ]
  },
  {
   "cell_type": "markdown",
   "id": "996e004f",
   "metadata": {},
   "source": [
    "TODO: Ingredients are currently a string, for our database we need them to be a list\n",
    "+ Strip the brackets at the end and beginning\n",
    "+ replace quotation marks \n",
    "+ split the string on commas \n",
    "--> we have a list "
   ]
  },
  {
   "cell_type": "code",
   "execution_count": 15,
   "id": "041dee3b",
   "metadata": {
    "scrolled": true
   },
   "outputs": [
    {
     "data": {
      "text/plain": [
       "['4 cups unbleached all-purpose flour',\n",
       " ' 1 tablespoon light brown sugar',\n",
       " ' 1 ⅓ cups warm water (110 degrees F/45 degrees C)',\n",
       " ' 1 ½ teaspoons salt',\n",
       " ' 1 ½ teaspoons olive oil',\n",
       " ' 1 (.25 ounce) package active dry yeast',\n",
       " ' 1 egg',\n",
       " ' 1 tablespoon water',\n",
       " ' 2 tablespoons cornmeal']"
      ]
     },
     "execution_count": 15,
     "metadata": {},
     "output_type": "execute_result"
    }
   ],
   "source": [
    "#This is what we insert into our db for ingredients \n",
    "recipes_2.iloc[1][\"ingredients\"][1:-1].replace(\"'\", \"\").split(\",\")"
   ]
  },
  {
   "cell_type": "code",
   "execution_count": 5,
   "id": "896ad41c",
   "metadata": {},
   "outputs": [
    {
     "data": {
      "text/plain": [
       "title                      0\n",
       "total_time                 0\n",
       "yields                     0\n",
       "ingredients                0\n",
       "instructions               0\n",
       "image                      0\n",
       "calories                   0\n",
       "url                        0\n",
       "cuisine                 4122\n",
       "dietary_restrictions    4122\n",
       "num_of_ingredients         0\n",
       "dtype: int64"
      ]
     },
     "execution_count": 5,
     "metadata": {},
     "output_type": "execute_result"
    }
   ],
   "source": [
    "recipes_2.isnull().sum()"
   ]
  },
  {
   "cell_type": "code",
   "execution_count": 6,
   "id": "34efed2f",
   "metadata": {},
   "outputs": [],
   "source": [
    "#Fill NaN of cuisine and dietary restrictions\n",
    "recipes_2.fillna(\"Not specified\", inplace=True)"
   ]
  },
  {
   "cell_type": "code",
   "execution_count": 8,
   "id": "797a842e",
   "metadata": {},
   "outputs": [],
   "source": [
    "#add column for difficulty\n",
    "for index, row in recipes_2.iterrows():\n",
    "    if row[\"total_time\"] < 15:\n",
    "        recipes_2.loc[index, \"difficulty\"] = \"easy\"\n",
    "    elif row[\"total_time\"] < 45:\n",
    "        recipes_2.loc[index, \"difficulty\"] = \"medium\"\n",
    "    else:\n",
    "        recipes_2.loc[index, \"difficulty\"] = \"hard\" "
   ]
  },
  {
   "cell_type": "code",
   "execution_count": 10,
   "id": "a200cfcc",
   "metadata": {},
   "outputs": [
    {
     "name": "stdout",
     "output_type": "stream",
     "text": [
      "<class 'pandas.core.frame.DataFrame'>\n",
      "RangeIndex: 4122 entries, 0 to 4121\n",
      "Data columns (total 12 columns):\n",
      " #   Column                Non-Null Count  Dtype \n",
      "---  ------                --------------  ----- \n",
      " 0   title                 4122 non-null   object\n",
      " 1   total_time            4122 non-null   int64 \n",
      " 2   yields                4122 non-null   object\n",
      " 3   ingredients           4122 non-null   object\n",
      " 4   instructions          4122 non-null   object\n",
      " 5   image                 4122 non-null   object\n",
      " 6   calories              4122 non-null   object\n",
      " 7   url                   4122 non-null   object\n",
      " 8   cuisine               4122 non-null   object\n",
      " 9   dietary_restrictions  4122 non-null   object\n",
      " 10  num_of_ingredients    4122 non-null   int64 \n",
      " 11  difficulty            4122 non-null   object\n",
      "dtypes: int64(2), object(10)\n",
      "memory usage: 386.6+ KB\n"
     ]
    }
   ],
   "source": [
    "recipes_2.info()"
   ]
  },
  {
   "cell_type": "markdown",
   "id": "88d4eb24",
   "metadata": {},
   "source": [
    "## 1. Create a new table in our database with the new format (only once)"
   ]
  },
  {
   "cell_type": "code",
   "execution_count": 11,
   "id": "86b08e7c",
   "metadata": {},
   "outputs": [],
   "source": [
    "DB_PASSWORD = os.environ['DB_PASSWORD']"
   ]
  },
  {
   "cell_type": "code",
   "execution_count": 12,
   "id": "4032095f",
   "metadata": {},
   "outputs": [],
   "source": [
    "conn = psycopg2.connect(database=\"d1hsr1c7nk56dl\", user = \"iadkkqrgljveni\", host = \"ec2-3-230-61-252.compute-1.amazonaws.com\", port = \"5432\", password=DB_PASSWORD)"
   ]
  },
  {
   "cell_type": "code",
   "execution_count": 13,
   "id": "30733105",
   "metadata": {},
   "outputs": [],
   "source": [
    "cur = conn.cursor()"
   ]
  },
  {
   "cell_type": "code",
   "execution_count": null,
   "id": "5b7edec0",
   "metadata": {},
   "outputs": [],
   "source": [
    "#Creating the table only ONCE\n",
    "cur.execute(\n",
    "    '''CREATE TABLE COOKIT_RECIPES\n",
    "    (ID INT PRIMARY KEY     NOT NULL,\n",
    "    TITLE           TEXT    NOT NULL,\n",
    "    DIFFICULTY      TEXT,\n",
    "    PREPTIME        INT,\n",
    "    NUMBER_OF_INGREDIENTS INT,\n",
    "    INGREDIENTS     TEXT[]     NOT NULL,\n",
    "    CUISINE         TEXT     NOT NULL,\n",
    "    CALORIES        TEXT,\n",
    "    LINK            TEXT       NOT NULL,\n",
    "    PICTURE_URL     TEXT       NOT NULL,\n",
    "    INSTRUCTIONS    TEXT);''')"
   ]
  },
  {
   "cell_type": "code",
   "execution_count": null,
   "id": "8b1e37fe",
   "metadata": {},
   "outputs": [],
   "source": [
    "conn.commit()"
   ]
  },
  {
   "cell_type": "markdown",
   "id": "b508edb7",
   "metadata": {},
   "source": [
    "## 2. Insert recipes into newly created table "
   ]
  },
  {
   "cell_type": "code",
   "execution_count": 14,
   "id": "c8bf83a4",
   "metadata": {},
   "outputs": [],
   "source": [
    "#Based on loaded dataframe\n",
    "def insert_into_db(recipes):\n",
    "    \n",
    "    for index, row in recipes.iterrows():\n",
    "        primary_key = index\n",
    "        title = row[\"title\"]\n",
    "        difficulty = row[\"difficulty\"]\n",
    "        prep_time = row[\"total_time\"]\n",
    "        number_of_ingredients = row[\"num_of_ingredients\"]\n",
    "        ingredients = recipes.iloc[index][\"ingredients\"][1:-1].replace(\"'\", \"\").split(\",\")\n",
    "        cuisine = row[\"cuisine\"]\n",
    "        calories = row[\"calories\"]\n",
    "        url = row[\"url\"]\n",
    "        picture_url = row[\"image\"]\n",
    "        instructions = row[\"instructions\"]\n",
    "\n",
    "        \n",
    "        query = \"\"\"INSERT INTO COOKIT_RECIPES (ID, TITLE, DIFFICULTY, PREPTIME, NUMBER_OF_INGREDIENTS, \n",
    "        INGREDIENTS, CUISINE, CALORIES, LINK, PICTURE_URL, INSTRUCTIONS)\n",
    "        VALUES(%s, %s, %s, %s, %s, %s, %s, %s, %s, %s, %s)\"\"\"\n",
    "        \n",
    "        cur.execute(query, (primary_key, title, difficulty, prep_time, number_of_ingredients, ingredients, cuisine, calories, url, picture_url, instructions));\n",
    "        conn.commit()"
   ]
  },
  {
   "cell_type": "code",
   "execution_count": null,
   "id": "d4af3bb5",
   "metadata": {},
   "outputs": [],
   "source": [
    "insert_into_db(recipes_2)"
   ]
  }
 ],
 "metadata": {
  "kernelspec": {
   "display_name": "Python 3 (ipykernel)",
   "language": "python",
   "name": "python3"
  },
  "language_info": {
   "codemirror_mode": {
    "name": "ipython",
    "version": 3
   },
   "file_extension": ".py",
   "mimetype": "text/x-python",
   "name": "python",
   "nbconvert_exporter": "python",
   "pygments_lexer": "ipython3",
   "version": "3.8.6"
  }
 },
 "nbformat": 4,
 "nbformat_minor": 5
}
