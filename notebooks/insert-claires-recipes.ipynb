{
 "cells": [
  {
   "cell_type": "markdown",
   "id": "bad636f1",
   "metadata": {},
   "source": [
    "# Notebook to insert recipes from csv into db"
   ]
  },
  {
   "cell_type": "code",
   "execution_count": 1,
   "id": "1a99cdbb",
   "metadata": {},
   "outputs": [],
   "source": [
    "import psycopg2\n",
    "import os\n",
    "import pandas as pd"
   ]
  },
  {
   "cell_type": "markdown",
   "id": "78f47cee",
   "metadata": {
    "heading_collapsed": true
   },
   "source": [
    "## 1. Jamie Oliver recipes"
   ]
  },
  {
   "cell_type": "code",
   "execution_count": null,
   "id": "34404a43",
   "metadata": {
    "hidden": true
   },
   "outputs": [],
   "source": [
    "recipes_2 = pd.read_csv(\"../raw_data/recipe_list_2010_JamieOliver.csv\")"
   ]
  },
  {
   "cell_type": "code",
   "execution_count": null,
   "id": "20e5ee2a",
   "metadata": {
    "hidden": true
   },
   "outputs": [],
   "source": [
    "len(recipes_2)"
   ]
  },
  {
   "cell_type": "code",
   "execution_count": null,
   "id": "fc97b4eb",
   "metadata": {
    "hidden": true,
    "scrolled": true
   },
   "outputs": [],
   "source": [
    "recipes_2.head(5)"
   ]
  },
  {
   "cell_type": "markdown",
   "id": "a2e29e2a",
   "metadata": {
    "hidden": true
   },
   "source": [
    "TODO: Ingredients are currently a string, for our database we need them to be a list\n",
    "+ Strip the brackets at the end and beginning\n",
    "+ replace quotation marks \n",
    "+ split the string on commas \n",
    "--> we have a list "
   ]
  },
  {
   "cell_type": "code",
   "execution_count": null,
   "id": "50d6014c",
   "metadata": {
    "hidden": true,
    "scrolled": true
   },
   "outputs": [],
   "source": [
    "#This is what we insert into our db for ingredients \n",
    "recipes_2.iloc[1][\"ingredients\"][1:-1].replace(\"'\", \"\").split(\",\")"
   ]
  },
  {
   "cell_type": "code",
   "execution_count": null,
   "id": "faa7ce0f",
   "metadata": {
    "hidden": true
   },
   "outputs": [],
   "source": [
    "recipes_2.isnull().sum()"
   ]
  },
  {
   "cell_type": "code",
   "execution_count": null,
   "id": "d120cf4d",
   "metadata": {
    "hidden": true
   },
   "outputs": [],
   "source": [
    "#Fill NaN of cuisine and dietary restrictions\n",
    "recipes_2.fillna(\"Not specified\", inplace=True)"
   ]
  },
  {
   "cell_type": "code",
   "execution_count": null,
   "id": "eefa0720",
   "metadata": {
    "hidden": true
   },
   "outputs": [],
   "source": [
    "#add column for difficulty\n",
    "for index, row in recipes_2.iterrows():\n",
    "    if row[\"total_time\"] < 15:\n",
    "        recipes_2.loc[index, \"difficulty\"] = \"easy\"\n",
    "    elif row[\"total_time\"] < 45:\n",
    "        recipes_2.loc[index, \"difficulty\"] = \"medium\"\n",
    "    else:\n",
    "        recipes_2.loc[index, \"difficulty\"] = \"hard\" "
   ]
  },
  {
   "cell_type": "code",
   "execution_count": null,
   "id": "b3a2729a",
   "metadata": {
    "hidden": true,
    "scrolled": true
   },
   "outputs": [],
   "source": [
    "recipes_2.info()"
   ]
  },
  {
   "cell_type": "markdown",
   "id": "11388b62",
   "metadata": {},
   "source": [
    "## 2. BBC Recipes"
   ]
  },
  {
   "cell_type": "code",
   "execution_count": 2,
   "id": "8ee5c14b",
   "metadata": {},
   "outputs": [],
   "source": [
    "recipes_1 = pd.read_csv(\"../raw_data/recipe_list_1015_bbcfood_4231.csv\")"
   ]
  },
  {
   "cell_type": "code",
   "execution_count": 3,
   "id": "f2463b5c",
   "metadata": {
    "scrolled": true
   },
   "outputs": [
    {
     "data": {
      "text/html": [
       "<div>\n",
       "<style scoped>\n",
       "    .dataframe tbody tr th:only-of-type {\n",
       "        vertical-align: middle;\n",
       "    }\n",
       "\n",
       "    .dataframe tbody tr th {\n",
       "        vertical-align: top;\n",
       "    }\n",
       "\n",
       "    .dataframe thead th {\n",
       "        text-align: right;\n",
       "    }\n",
       "</style>\n",
       "<table border=\"1\" class=\"dataframe\">\n",
       "  <thead>\n",
       "    <tr style=\"text-align: right;\">\n",
       "      <th></th>\n",
       "      <th>title</th>\n",
       "      <th>total_time</th>\n",
       "      <th>yields</th>\n",
       "      <th>ingredients</th>\n",
       "      <th>instructions</th>\n",
       "      <th>image</th>\n",
       "      <th>calories</th>\n",
       "      <th>url</th>\n",
       "      <th>cuisine</th>\n",
       "      <th>dietary_restrictions</th>\n",
       "      <th>num_of_ingredients</th>\n",
       "    </tr>\n",
       "  </thead>\n",
       "  <tbody>\n",
       "    <tr>\n",
       "      <th>0</th>\n",
       "      <td>Apricot tarte tatin</td>\n",
       "      <td>30</td>\n",
       "      <td>6 serving(s)</td>\n",
       "      <td>['75g/2¾oz caster sugar', '40g/1½oz unsalted b...</td>\n",
       "      <td>For caramelising the apricots, you need a smal...</td>\n",
       "      <td>https://ichef.bbci.co.uk/food/ic/food_16x9_832...</td>\n",
       "      <td>{}</td>\n",
       "      <td>https://www.bbc.co.uk/food/recipes/apricot_tar...</td>\n",
       "      <td>NaN</td>\n",
       "      <td>NaN</td>\n",
       "      <td>5</td>\n",
       "    </tr>\n",
       "    <tr>\n",
       "      <th>1</th>\n",
       "      <td>Celebration chocolate mousse cake</td>\n",
       "      <td>0</td>\n",
       "      <td>10 serving(s)</td>\n",
       "      <td>['25g/1oz cocoa powder, plus extra for dusting...</td>\n",
       "      <td>Preheat the oven to 180C/160C Fan/Gas 4. Greas...</td>\n",
       "      <td>https://ichef.bbci.co.uk/food/ic/food_16x9_832...</td>\n",
       "      <td>{}</td>\n",
       "      <td>https://www.bbc.co.uk/food/recipes/celebration...</td>\n",
       "      <td>NaN</td>\n",
       "      <td>NaN</td>\n",
       "      <td>13</td>\n",
       "    </tr>\n",
       "    <tr>\n",
       "      <th>2</th>\n",
       "      <td>Healthy jerk chicken wraps</td>\n",
       "      <td>60</td>\n",
       "      <td>4 serving(s)</td>\n",
       "      <td>['250ml/9fl oz white wine vinegar', '4 tbsp su...</td>\n",
       "      <td>Heat the white wine vinegar, sugar and coriand...</td>\n",
       "      <td>https://food.files.bbci.co.uk/kandl-food/3109/...</td>\n",
       "      <td>{}</td>\n",
       "      <td>https://www.bbc.co.uk/food/recipes/healthy_fas...</td>\n",
       "      <td>NaN</td>\n",
       "      <td>NaN</td>\n",
       "      <td>11</td>\n",
       "    </tr>\n",
       "    <tr>\n",
       "      <th>3</th>\n",
       "      <td>Venison cobbler</td>\n",
       "      <td>150</td>\n",
       "      <td>6 serving(s)</td>\n",
       "      <td>['2 tbsp sunflower oil', '2 large onions, slic...</td>\n",
       "      <td>Preheat the oven to 180C/350F/Gas 4.\\nHeat the...</td>\n",
       "      <td>https://food.files.bbci.co.uk/kandl-food/3109/...</td>\n",
       "      <td>{}</td>\n",
       "      <td>https://www.bbc.co.uk/food/recipes/venison_cob...</td>\n",
       "      <td>NaN</td>\n",
       "      <td>NaN</td>\n",
       "      <td>18</td>\n",
       "    </tr>\n",
       "    <tr>\n",
       "      <th>4</th>\n",
       "      <td>Outstanding fried egg sandwich</td>\n",
       "      <td>40</td>\n",
       "      <td>1 serving(s)</td>\n",
       "      <td>['½ ripe avocado, stone removed', '½ red chill...</td>\n",
       "      <td>Scoop the avocado into a bowl and, using a for...</td>\n",
       "      <td>https://ichef.bbci.co.uk/food/ic/food_16x9_832...</td>\n",
       "      <td>{}</td>\n",
       "      <td>https://www.bbc.co.uk/food/recipes/outstanding...</td>\n",
       "      <td>NaN</td>\n",
       "      <td>NaN</td>\n",
       "      <td>11</td>\n",
       "    </tr>\n",
       "  </tbody>\n",
       "</table>\n",
       "</div>"
      ],
      "text/plain": [
       "                               title  total_time         yields  \\\n",
       "0                Apricot tarte tatin          30   6 serving(s)   \n",
       "1  Celebration chocolate mousse cake           0  10 serving(s)   \n",
       "2         Healthy jerk chicken wraps          60   4 serving(s)   \n",
       "3                    Venison cobbler         150   6 serving(s)   \n",
       "4     Outstanding fried egg sandwich          40   1 serving(s)   \n",
       "\n",
       "                                         ingredients  \\\n",
       "0  ['75g/2¾oz caster sugar', '40g/1½oz unsalted b...   \n",
       "1  ['25g/1oz cocoa powder, plus extra for dusting...   \n",
       "2  ['250ml/9fl oz white wine vinegar', '4 tbsp su...   \n",
       "3  ['2 tbsp sunflower oil', '2 large onions, slic...   \n",
       "4  ['½ ripe avocado, stone removed', '½ red chill...   \n",
       "\n",
       "                                        instructions  \\\n",
       "0  For caramelising the apricots, you need a smal...   \n",
       "1  Preheat the oven to 180C/160C Fan/Gas 4. Greas...   \n",
       "2  Heat the white wine vinegar, sugar and coriand...   \n",
       "3  Preheat the oven to 180C/350F/Gas 4.\\nHeat the...   \n",
       "4  Scoop the avocado into a bowl and, using a for...   \n",
       "\n",
       "                                               image calories  \\\n",
       "0  https://ichef.bbci.co.uk/food/ic/food_16x9_832...       {}   \n",
       "1  https://ichef.bbci.co.uk/food/ic/food_16x9_832...       {}   \n",
       "2  https://food.files.bbci.co.uk/kandl-food/3109/...       {}   \n",
       "3  https://food.files.bbci.co.uk/kandl-food/3109/...       {}   \n",
       "4  https://ichef.bbci.co.uk/food/ic/food_16x9_832...       {}   \n",
       "\n",
       "                                                 url  cuisine  \\\n",
       "0  https://www.bbc.co.uk/food/recipes/apricot_tar...      NaN   \n",
       "1  https://www.bbc.co.uk/food/recipes/celebration...      NaN   \n",
       "2  https://www.bbc.co.uk/food/recipes/healthy_fas...      NaN   \n",
       "3  https://www.bbc.co.uk/food/recipes/venison_cob...      NaN   \n",
       "4  https://www.bbc.co.uk/food/recipes/outstanding...      NaN   \n",
       "\n",
       "   dietary_restrictions  num_of_ingredients  \n",
       "0                   NaN                   5  \n",
       "1                   NaN                  13  \n",
       "2                   NaN                  11  \n",
       "3                   NaN                  18  \n",
       "4                   NaN                  11  "
      ]
     },
     "execution_count": 3,
     "metadata": {},
     "output_type": "execute_result"
    }
   ],
   "source": [
    "recipes_1.head()"
   ]
  },
  {
   "cell_type": "code",
   "execution_count": 4,
   "id": "5a5037a0",
   "metadata": {
    "scrolled": true
   },
   "outputs": [
    {
     "data": {
      "text/plain": [
       "4231"
      ]
     },
     "execution_count": 4,
     "metadata": {},
     "output_type": "execute_result"
    }
   ],
   "source": [
    "len(recipes_1)"
   ]
  },
  {
   "cell_type": "code",
   "execution_count": 7,
   "id": "c5a6464f",
   "metadata": {
    "scrolled": true
   },
   "outputs": [
    {
     "data": {
      "text/plain": [
       "title                   0\n",
       "total_time              0\n",
       "yields                  0\n",
       "ingredients             0\n",
       "instructions            0\n",
       "image                   0\n",
       "calories                0\n",
       "url                     0\n",
       "cuisine                 0\n",
       "dietary_restrictions    0\n",
       "num_of_ingredients      0\n",
       "dtype: int64"
      ]
     },
     "execution_count": 7,
     "metadata": {},
     "output_type": "execute_result"
    }
   ],
   "source": [
    "recipes_1.isnull().sum()"
   ]
  },
  {
   "cell_type": "code",
   "execution_count": 6,
   "id": "767597ad",
   "metadata": {},
   "outputs": [],
   "source": [
    "#Fill NaN of cuisine and dietary restrictions\n",
    "recipes_1.fillna(\"Not specified\", inplace=True)"
   ]
  },
  {
   "cell_type": "code",
   "execution_count": 8,
   "id": "4de8af44",
   "metadata": {},
   "outputs": [],
   "source": [
    "#add column for difficulty\n",
    "for index, row in recipes_1.iterrows():\n",
    "    if row[\"total_time\"] < 15:\n",
    "        recipes_1.loc[index, \"difficulty\"] = \"easy\"\n",
    "    elif row[\"total_time\"] < 45:\n",
    "        recipes_1.loc[index, \"difficulty\"] = \"medium\"\n",
    "    else:\n",
    "        recipes_1.loc[index, \"difficulty\"] = \"hard\" "
   ]
  },
  {
   "cell_type": "code",
   "execution_count": 9,
   "id": "a7bfea78",
   "metadata": {},
   "outputs": [],
   "source": [
    "#ToDO replace calories with not  specified or so \n",
    "recipes_1.drop(columns=\"calories\", inplace=True)"
   ]
  },
  {
   "cell_type": "code",
   "execution_count": 10,
   "id": "d23480e2",
   "metadata": {},
   "outputs": [],
   "source": [
    "recipes_1[\"calories\"] = \"No information available\""
   ]
  },
  {
   "cell_type": "code",
   "execution_count": 11,
   "id": "227ce408",
   "metadata": {},
   "outputs": [
    {
     "name": "stdout",
     "output_type": "stream",
     "text": [
      "<class 'pandas.core.frame.DataFrame'>\n",
      "RangeIndex: 4231 entries, 0 to 4230\n",
      "Data columns (total 12 columns):\n",
      " #   Column                Non-Null Count  Dtype \n",
      "---  ------                --------------  ----- \n",
      " 0   title                 4231 non-null   object\n",
      " 1   total_time            4231 non-null   int64 \n",
      " 2   yields                4231 non-null   object\n",
      " 3   ingredients           4231 non-null   object\n",
      " 4   instructions          4231 non-null   object\n",
      " 5   image                 4231 non-null   object\n",
      " 6   url                   4231 non-null   object\n",
      " 7   cuisine               4231 non-null   object\n",
      " 8   dietary_restrictions  4231 non-null   object\n",
      " 9   num_of_ingredients    4231 non-null   int64 \n",
      " 10  difficulty            4231 non-null   object\n",
      " 11  calories              4231 non-null   object\n",
      "dtypes: int64(2), object(10)\n",
      "memory usage: 396.8+ KB\n"
     ]
    }
   ],
   "source": [
    "recipes_1.info()"
   ]
  },
  {
   "cell_type": "markdown",
   "id": "cb266813",
   "metadata": {},
   "source": [
    "## 3. Create a new table in our database with the new format (only once)"
   ]
  },
  {
   "cell_type": "code",
   "execution_count": 14,
   "id": "c63785e8",
   "metadata": {},
   "outputs": [],
   "source": [
    "DB_PASSWORD = os.environ['DB_PASSWORD']"
   ]
  },
  {
   "cell_type": "code",
   "execution_count": 15,
   "id": "d3c2b223",
   "metadata": {},
   "outputs": [],
   "source": [
    "conn = psycopg2.connect(database=\"d1hsr1c7nk56dl\", user = \"iadkkqrgljveni\", host = \"ec2-3-230-61-252.compute-1.amazonaws.com\", port = \"5432\", password=DB_PASSWORD)"
   ]
  },
  {
   "cell_type": "code",
   "execution_count": 16,
   "id": "8510e13e",
   "metadata": {},
   "outputs": [],
   "source": [
    "cur = conn.cursor()"
   ]
  },
  {
   "cell_type": "code",
   "execution_count": null,
   "id": "ebef88be",
   "metadata": {},
   "outputs": [],
   "source": [
    "#Creating the table only ONCE\n",
    "cur.execute(\n",
    "    '''CREATE TABLE COOKIT_RECIPES\n",
    "    (ID INT PRIMARY KEY     NOT NULL,\n",
    "    TITLE           TEXT    NOT NULL,\n",
    "    DIFFICULTY      TEXT,\n",
    "    PREPTIME        INT,\n",
    "    NUMBER_OF_INGREDIENTS INT,\n",
    "    INGREDIENTS     TEXT[]     NOT NULL,\n",
    "    CUISINE         TEXT     NOT NULL,\n",
    "    CALORIES        TEXT,\n",
    "    LINK            TEXT       NOT NULL,\n",
    "    PICTURE_URL     TEXT       NOT NULL,\n",
    "    INSTRUCTIONS    TEXT);''')"
   ]
  },
  {
   "cell_type": "code",
   "execution_count": null,
   "id": "77c6709f",
   "metadata": {},
   "outputs": [],
   "source": [
    "conn.commit()"
   ]
  },
  {
   "cell_type": "markdown",
   "id": "79977b20",
   "metadata": {},
   "source": [
    "## 4. Insert recipes into newly created table "
   ]
  },
  {
   "cell_type": "code",
   "execution_count": 17,
   "id": "458bfc4b",
   "metadata": {},
   "outputs": [],
   "source": [
    "#Based on loaded dataframe\n",
    "def insert_into_db(recipes):\n",
    "    \n",
    "    for index, row in recipes.iterrows():\n",
    "        primary_key = index+4123+750\n",
    "        title = row[\"title\"]\n",
    "        difficulty = row[\"difficulty\"]\n",
    "        prep_time = row[\"total_time\"]\n",
    "        number_of_ingredients = row[\"num_of_ingredients\"]\n",
    "        ingredients = recipes.iloc[index][\"ingredients\"][1:-1].replace(\"'\", \"\").split(\",\")\n",
    "        cuisine = row[\"cuisine\"]\n",
    "        calories = row[\"calories\"]\n",
    "        url = row[\"url\"]\n",
    "        picture_url = row[\"image\"]\n",
    "        instructions = row[\"instructions\"]\n",
    "\n",
    "        \n",
    "        query = \"\"\"INSERT INTO COOKIT_RECIPES (ID, TITLE, DIFFICULTY, PREPTIME, NUMBER_OF_INGREDIENTS, \n",
    "        INGREDIENTS, CUISINE, CALORIES, LINK, PICTURE_URL, INSTRUCTIONS)\n",
    "        VALUES(%s, %s, %s, %s, %s, %s, %s, %s, %s, %s, %s)\"\"\"\n",
    "        \n",
    "        cur.execute(query, (primary_key, title, difficulty, prep_time, number_of_ingredients, ingredients, cuisine, calories, url, picture_url, instructions));\n",
    "        conn.commit()"
   ]
  },
  {
   "cell_type": "code",
   "execution_count": 18,
   "id": "16937aca",
   "metadata": {},
   "outputs": [],
   "source": [
    "insert_into_db(recipes_1)"
   ]
  }
 ],
 "metadata": {
  "kernelspec": {
   "display_name": "Python 3 (ipykernel)",
   "language": "python",
   "name": "python3"
  },
  "language_info": {
   "codemirror_mode": {
    "name": "ipython",
    "version": 3
   },
   "file_extension": ".py",
   "mimetype": "text/x-python",
   "name": "python",
   "nbconvert_exporter": "python",
   "pygments_lexer": "ipython3",
   "version": "3.8.6"
  }
 },
 "nbformat": 4,
 "nbformat_minor": 5
}
