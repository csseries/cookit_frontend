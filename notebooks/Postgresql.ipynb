{
 "cells": [
  {
   "cell_type": "markdown",
   "id": "ff8f5b64",
   "metadata": {},
   "source": [
    "# PostgreSQL Database"
   ]
  },
  {
   "cell_type": "code",
   "execution_count": 1,
   "id": "19e41efe",
   "metadata": {},
   "outputs": [],
   "source": [
    "import psycopg2\n",
    "import os"
   ]
  },
  {
   "cell_type": "code",
   "execution_count": 2,
   "id": "48f9faa0",
   "metadata": {},
   "outputs": [],
   "source": [
    "DB_PASSWORD = os.environ['DB_PASSWORD']"
   ]
  },
  {
   "cell_type": "code",
   "execution_count": null,
   "id": "ce9399d4",
   "metadata": {},
   "outputs": [],
   "source": [
    "#Weirdly for me the user is my name normally it should be postgres by default \n",
    "conn_local = psycopg2.connect(database=\"cookit\", user = \"lillykaemmerling\", host = \"localhost\", port = \"5432\")"
   ]
  },
  {
   "cell_type": "code",
   "execution_count": null,
   "id": "a539b65f",
   "metadata": {},
   "outputs": [],
   "source": [
    "cur_local  = conn_local.cursor()"
   ]
  },
  {
   "cell_type": "code",
   "execution_count": 3,
   "id": "ea061f74",
   "metadata": {},
   "outputs": [],
   "source": [
    "conn = psycopg2.connect(database=\"d1hsr1c7nk56dl\", user = \"iadkkqrgljveni\", host = \"ec2-3-230-61-252.compute-1.amazonaws.com\", port = \"5432\", password=DB_PASSWORD)"
   ]
  },
  {
   "cell_type": "code",
   "execution_count": 4,
   "id": "da7e7b11",
   "metadata": {},
   "outputs": [],
   "source": [
    "cur = conn.cursor()"
   ]
  },
  {
   "cell_type": "code",
   "execution_count": null,
   "id": "81bfc207",
   "metadata": {},
   "outputs": [],
   "source": [
    "#Creating the table only ONCE\n",
    "cur.execute(\n",
    "    '''CREATE TABLE RECIPES\n",
    "    (ID INT PRIMARY KEY     NOT NULL,\n",
    "    TITLE           TEXT    NOT NULL,\n",
    "    DIFFICULTY      TEXT,\n",
    "    PREPTIME        TEXT,\n",
    "    LINK TEXT  NOT NULL,\n",
    "    PICTURE_URL     TEXT,\n",
    "    INGREDIENTS     TEXT[]         NOT NULL,\n",
    "    CUISINE         TEXT[]     NOT NULL);''')"
   ]
  },
  {
   "cell_type": "code",
   "execution_count": null,
   "id": "1c941084",
   "metadata": {},
   "outputs": [],
   "source": [
    "#In Postgres we always have to commit \n",
    "conn.commit()"
   ]
  },
  {
   "cell_type": "markdown",
   "id": "dbe0a5ba",
   "metadata": {},
   "source": [
    "# Scraping lewagon recipes "
   ]
  },
  {
   "cell_type": "code",
   "execution_count": 5,
   "id": "09b874b3",
   "metadata": {},
   "outputs": [],
   "source": [
    "from bs4 import BeautifulSoup\n",
    "import requests\n",
    "import csv"
   ]
  },
  {
   "cell_type": "markdown",
   "id": "a18a29dd",
   "metadata": {},
   "source": [
    "## Scrape recipe overview"
   ]
  },
  {
   "cell_type": "code",
   "execution_count": 6,
   "id": "0c8b6447",
   "metadata": {},
   "outputs": [],
   "source": [
    "#Scrape the main pages content \n",
    "def scrape_from_internet(pages):\n",
    "\n",
    "    #USE f string to do this for all 63 pages \n",
    "    BASIC_URI = \"https://recipes.lewagon.com/\"\n",
    "    html_content = bytearray()\n",
    "    \n",
    "    #Pagination --> start refers to the page\n",
    "    for i in range(1,pages):\n",
    "        url = f\"{BASIC_URI}?search[query]=&page={i}\"\n",
    "        \n",
    "        response = requests.get(url)\n",
    "\n",
    "        if response.history == []:\n",
    "            html_content += response.content\n",
    "\n",
    "    return str(html_content)"
   ]
  },
  {
   "cell_type": "code",
   "execution_count": 7,
   "id": "fcff9cfa",
   "metadata": {},
   "outputs": [],
   "source": [
    "#parse the main page content \n",
    "def parse(html):\n",
    "    #Return a list from the overview page \n",
    "    #html input = response.content\n",
    "\n",
    "    soup = BeautifulSoup(html, 'html.parser')\n",
    "    #Find all recipes on the specific page\n",
    "    recipes_soup = soup.find_all('div', class_='col-12 col-sm-6 col-md-4 col-lg-3')\n",
    "    \n",
    "    recipe_list = []\n",
    "\n",
    "    for recipe in recipes_soup:\n",
    "        name = recipe.find('p', class_='text-dark text-truncate w-100 font-weight-bold mb-0 recipe-name').text\n",
    "        difficulty = recipe.find('span', class_='recipe-difficulty').text\n",
    "        prep_time = recipe.find('span', class_='recipe-cooktime').text\n",
    "        \n",
    "        #Get the link from data-href to be able to go to the recipe page \n",
    "        recipe_url = recipe.find('div', class_='recipe my-3').attrs['data-href']\n",
    "        \n",
    "        #Get the link to the picture from src \n",
    "        picture_url = recipe.find('img', class_='recipe-img').attrs['src']\n",
    "\n",
    "        recipe_list.append({\"name\": name, \n",
    "                            \"difficulty\": difficulty, \n",
    "                            \"prep_time\": prep_time,\n",
    "                            \"link\": recipe_url,\n",
    "                            \"picture_url\": picture_url})\n",
    "    return recipe_list"
   ]
  },
  {
   "cell_type": "code",
   "execution_count": null,
   "id": "008c123d",
   "metadata": {},
   "outputs": [],
   "source": [
    "recipes = parse(scrape_from_internet(64))"
   ]
  },
  {
   "cell_type": "code",
   "execution_count": null,
   "id": "095c4b7b",
   "metadata": {},
   "outputs": [],
   "source": [
    "#write the parsed content into a csv \n",
    "def write_csv(recipes):\n",
    "    #dump recipes to a CSV file `recipes.csv`\n",
    "    with open(f\"../raw_data/recipes.csv\", \"w\") as csvfile:\n",
    "        writer = csv.DictWriter(csvfile, fieldnames=recipes[0].keys())\n",
    "        writer.writeheader()\n",
    "        for recipe in recipes:\n",
    "            writer.writerow(recipe)"
   ]
  },
  {
   "cell_type": "code",
   "execution_count": null,
   "id": "c1416e4b",
   "metadata": {},
   "outputs": [],
   "source": [
    "write_csv(recipes)"
   ]
  },
  {
   "cell_type": "markdown",
   "id": "fb1d27a8",
   "metadata": {},
   "source": [
    "Now we have the overview of all 750 recipes in a csv\n",
    "As a next step we need to go through this csv/the original dictionnary and scrape every individual recipe link in order to access ingredients & cuisine "
   ]
  },
  {
   "cell_type": "markdown",
   "id": "478a32f4",
   "metadata": {},
   "source": [
    "## Scrape individual recipes "
   ]
  },
  {
   "cell_type": "code",
   "execution_count": 8,
   "id": "3de9a993",
   "metadata": {},
   "outputs": [],
   "source": [
    "import pandas as pd"
   ]
  },
  {
   "cell_type": "code",
   "execution_count": 9,
   "id": "c65bcc34",
   "metadata": {},
   "outputs": [],
   "source": [
    "#scrape the individual recipe \n",
    "def scrape_recipe(url):\n",
    "\n",
    "    html_content = bytearray()\n",
    "    response = requests.get(url)\n",
    "\n",
    "    if response.history == []:\n",
    "        html_content += response.content\n",
    "\n",
    "    return str(html_content)"
   ]
  },
  {
   "cell_type": "code",
   "execution_count": 10,
   "id": "84033efe",
   "metadata": {},
   "outputs": [],
   "source": [
    "def parse(recipe_html):\n",
    "    \n",
    "    #html input = response.content\n",
    "\n",
    "    soup = BeautifulSoup(recipe_html, 'html.parser')\n",
    "    details = {}\n",
    "    \n",
    "    #Find all ingredients on the specific page\n",
    "    ingredients_soup = soup.find_all('div', class_='ingredient')\n",
    "    ingredients = []\n",
    "\n",
    "    for ingredient in ingredients_soup:\n",
    "        description = ingredient.find('p', class_='mb-0').text\n",
    "        ingredients.append(description)\n",
    "        \n",
    "    \n",
    "    #Find all ingredients on the specific page\n",
    "    cuisines = []\n",
    "    cuisines_soup = soup.find_all('span', class_=\"badge badge-success\")\n",
    "    \n",
    "    if len(cuisines_soup) < 1:\n",
    "        cuisines.append(\"No cuisine specified\")\n",
    "    else:\n",
    "        for cuisine in cuisines_soup:\n",
    "            cuisines.append(cuisine.text)\n",
    "    \n",
    "    details[\"ingredients\"] = ingredients\n",
    "    details[\"cuisine\"] = cuisines\n",
    "    \n",
    "    return details"
   ]
  },
  {
   "cell_type": "code",
   "execution_count": 11,
   "id": "5487e580",
   "metadata": {},
   "outputs": [],
   "source": [
    "recipe = parse(scrape_recipe(\"https://recipes.lewagon.com/recipes/970\"))"
   ]
  },
  {
   "cell_type": "code",
   "execution_count": 12,
   "id": "4e7ef895",
   "metadata": {},
   "outputs": [
    {
     "data": {
      "text/plain": [
       "{'ingredients': ['1 package (15 ounces) refrigerated pie crust (2 crusts)',\n",
       "  \"1 can (10 1/2 ounces) Campbell's Chicken Gravy\",\n",
       "  '3 cups cooked cut-up vegetables *',\n",
       "  '2 ounces cans (4.5 each) Swanson Premium White Chunk Chicken Breast in Water, drained'],\n",
       " 'cuisine': ['No cuisine specified']}"
      ]
     },
     "execution_count": 12,
     "metadata": {},
     "output_type": "execute_result"
    }
   ],
   "source": [
    "recipe"
   ]
  },
  {
   "cell_type": "code",
   "execution_count": 13,
   "id": "a8b1619a",
   "metadata": {
    "scrolled": true
   },
   "outputs": [
    {
     "data": {
      "text/plain": [
       "['1 package (15 ounces) refrigerated pie crust (2 crusts)',\n",
       " \"1 can (10 1/2 ounces) Campbell's Chicken Gravy\",\n",
       " '3 cups cooked cut-up vegetables *',\n",
       " '2 ounces cans (4.5 each) Swanson Premium White Chunk Chicken Breast in Water, drained']"
      ]
     },
     "execution_count": 13,
     "metadata": {},
     "output_type": "execute_result"
    }
   ],
   "source": [
    "recipe[\"ingredients\"]"
   ]
  },
  {
   "cell_type": "code",
   "execution_count": 14,
   "id": "1a91ef2b",
   "metadata": {},
   "outputs": [
    {
     "data": {
      "text/plain": [
       "4"
      ]
     },
     "execution_count": 14,
     "metadata": {},
     "output_type": "execute_result"
    }
   ],
   "source": [
    "len(recipe[\"ingredients\"])"
   ]
  },
  {
   "cell_type": "markdown",
   "id": "4481a762",
   "metadata": {},
   "source": [
    "TODO: \n",
    "+ Insert insert into csv/ db where this url is present \n",
    "+ additionally split amount and ingredient "
   ]
  },
  {
   "cell_type": "code",
   "execution_count": 15,
   "id": "62785ea5",
   "metadata": {},
   "outputs": [],
   "source": [
    "recipes = pd.read_csv(\"../raw_data/recipes.csv\")"
   ]
  },
  {
   "cell_type": "code",
   "execution_count": 16,
   "id": "2d7970af",
   "metadata": {
    "scrolled": true
   },
   "outputs": [
    {
     "data": {
      "text/html": [
       "<div>\n",
       "<style scoped>\n",
       "    .dataframe tbody tr th:only-of-type {\n",
       "        vertical-align: middle;\n",
       "    }\n",
       "\n",
       "    .dataframe tbody tr th {\n",
       "        vertical-align: top;\n",
       "    }\n",
       "\n",
       "    .dataframe thead th {\n",
       "        text-align: right;\n",
       "    }\n",
       "</style>\n",
       "<table border=\"1\" class=\"dataframe\">\n",
       "  <thead>\n",
       "    <tr style=\"text-align: right;\">\n",
       "      <th></th>\n",
       "      <th>name</th>\n",
       "      <th>difficulty</th>\n",
       "      <th>prep_time</th>\n",
       "      <th>link</th>\n",
       "      <th>picture_url</th>\n",
       "    </tr>\n",
       "  </thead>\n",
       "  <tbody>\n",
       "    <tr>\n",
       "      <th>0</th>\n",
       "      <td>10 Minute Brownies</td>\n",
       "      <td>Moderate</td>\n",
       "      <td>45 min</td>\n",
       "      <td>https://recipes.lewagon.com/recipes/668</td>\n",
       "      <td>https://spoonacular.com/recipeImages/631830-55...</td>\n",
       "    </tr>\n",
       "    <tr>\n",
       "      <th>1</th>\n",
       "      <td>15 Minute Healthy Dark Chocolate Truffles</td>\n",
       "      <td>Very hard</td>\n",
       "      <td>45 min</td>\n",
       "      <td>https://recipes.lewagon.com/recipes/956</td>\n",
       "      <td>https://spoonacular.com/recipeImages/631841-55...</td>\n",
       "    </tr>\n",
       "    <tr>\n",
       "      <th>2</th>\n",
       "      <td>4 Ingredient Chicken Pot Pie</td>\n",
       "      <td>Very easy</td>\n",
       "      <td>45 min</td>\n",
       "      <td>https://recipes.lewagon.com/recipes/970</td>\n",
       "      <td>https://spoonacular.com/recipeImages/631868-55...</td>\n",
       "    </tr>\n",
       "    <tr>\n",
       "      <th>3</th>\n",
       "      <td>4 Ingredient Raw Peanut Butter Chocolate Cups</td>\n",
       "      <td>Moderate</td>\n",
       "      <td>45 min</td>\n",
       "      <td>https://recipes.lewagon.com/recipes/748</td>\n",
       "      <td>https://spoonacular.com/recipeImages/792705-55...</td>\n",
       "    </tr>\n",
       "    <tr>\n",
       "      <th>4</th>\n",
       "      <td>5-Minute Blueberry Chia Jam</td>\n",
       "      <td>Moderate</td>\n",
       "      <td>45 min</td>\n",
       "      <td>https://recipes.lewagon.com/recipes/523</td>\n",
       "      <td>https://spoonacular.com/recipeImages/631880-55...</td>\n",
       "    </tr>\n",
       "  </tbody>\n",
       "</table>\n",
       "</div>"
      ],
      "text/plain": [
       "                                            name difficulty prep_time  \\\n",
       "0                             10 Minute Brownies   Moderate    45 min   \n",
       "1      15 Minute Healthy Dark Chocolate Truffles  Very hard    45 min   \n",
       "2                   4 Ingredient Chicken Pot Pie  Very easy    45 min   \n",
       "3  4 Ingredient Raw Peanut Butter Chocolate Cups   Moderate    45 min   \n",
       "4                    5-Minute Blueberry Chia Jam   Moderate    45 min   \n",
       "\n",
       "                                      link  \\\n",
       "0  https://recipes.lewagon.com/recipes/668   \n",
       "1  https://recipes.lewagon.com/recipes/956   \n",
       "2  https://recipes.lewagon.com/recipes/970   \n",
       "3  https://recipes.lewagon.com/recipes/748   \n",
       "4  https://recipes.lewagon.com/recipes/523   \n",
       "\n",
       "                                         picture_url  \n",
       "0  https://spoonacular.com/recipeImages/631830-55...  \n",
       "1  https://spoonacular.com/recipeImages/631841-55...  \n",
       "2  https://spoonacular.com/recipeImages/631868-55...  \n",
       "3  https://spoonacular.com/recipeImages/792705-55...  \n",
       "4  https://spoonacular.com/recipeImages/631880-55...  "
      ]
     },
     "execution_count": 16,
     "metadata": {},
     "output_type": "execute_result"
    }
   ],
   "source": [
    "recipes.head()"
   ]
  },
  {
   "cell_type": "code",
   "execution_count": 17,
   "id": "4904b1e8",
   "metadata": {},
   "outputs": [
    {
     "data": {
      "text/plain": [
       "45"
      ]
     },
     "execution_count": 17,
     "metadata": {},
     "output_type": "execute_result"
    }
   ],
   "source": [
    "int(recipes.loc[0][\"prep_time\"][:2])"
   ]
  },
  {
   "cell_type": "markdown",
   "id": "02baa8dc",
   "metadata": {
    "heading_collapsed": true
   },
   "source": [
    "## Insert Recipes into recipe database "
   ]
  },
  {
   "cell_type": "code",
   "execution_count": null,
   "id": "283dabdc",
   "metadata": {
    "hidden": true
   },
   "outputs": [],
   "source": [
    "#Based on overview csv file \n",
    "def insert_into_db(recipes):\n",
    "    \n",
    "    for index, row in recipes.iterrows():\n",
    "        primary_key = index\n",
    "        title = row[\"name\"]\n",
    "        difficulty = row[\"difficulty\"]\n",
    "        prep_time = row[\"prep_time\"]\n",
    "        url = row[\"link\"]\n",
    "        picture_url = row[\"picture_url\"]\n",
    "\n",
    "        recipe = parse(scrape_recipe(url))\n",
    "\n",
    "        ingredients = recipe[\"ingredients\"]\n",
    "        cuisine = recipe[\"cuisine\"]\n",
    "        \n",
    "        query = \"\"\"INSERT INTO RECIPES (ID, TITLE, DIFFICULTY, PREPTIME, LINK, PICTURE_URL, INGREDIENTS, CUISINE)\n",
    "        VALUES(%s, %s, %s, %s, %s, %s, %s, %s)\"\"\"\n",
    "        \n",
    "        cur.execute(query, (primary_key, title, difficulty, prep_time, url, picture_url, ingredients, cuisine));\n",
    "        conn.commit()"
   ]
  },
  {
   "cell_type": "code",
   "execution_count": null,
   "id": "c1be4178",
   "metadata": {
    "hidden": true
   },
   "outputs": [],
   "source": [
    "insert_into_db(recipes)"
   ]
  },
  {
   "cell_type": "markdown",
   "id": "ca7221ce",
   "metadata": {},
   "source": [
    "## Insert recipes into final db in different format"
   ]
  },
  {
   "cell_type": "code",
   "execution_count": 18,
   "id": "fdcee1c2",
   "metadata": {},
   "outputs": [],
   "source": [
    "#Based on loaded dataframe\n",
    "def insert_into_db(recipes):\n",
    "    \n",
    "    for index, row in recipes.iterrows():\n",
    "        primary_key = index+4123\n",
    "        title = row[\"name\"]\n",
    "        difficulty = row[\"difficulty\"]\n",
    "        prep_time = int(recipes.loc[index][\"prep_time\"][:2])\n",
    "        url = row[\"link\"]\n",
    "        picture_url = row[\"picture_url\"]\n",
    "        instructions = \"Please follow the link for instructions\"\n",
    "        \n",
    "        recipe = parse(scrape_recipe(url))\n",
    "        \n",
    "        number_of_ingredients = len(recipe[\"ingredients\"])\n",
    "        ingredients = recipe[\"ingredients\"]\n",
    "        cuisine = recipe[\"cuisine\"][0]\n",
    "        \n",
    "        calories = \"No information available\"\n",
    "        \n",
    "        \n",
    "        query = \"\"\"INSERT INTO COOKIT_RECIPES (ID, TITLE, DIFFICULTY, PREPTIME, NUMBER_OF_INGREDIENTS, \n",
    "        INGREDIENTS, CUISINE, CALORIES, LINK, PICTURE_URL, INSTRUCTIONS)\n",
    "        VALUES(%s, %s, %s, %s, %s, %s, %s, %s, %s, %s, %s)\"\"\"\n",
    "        \n",
    "        cur.execute(query, (primary_key, title, difficulty, prep_time, number_of_ingredients, ingredients, cuisine, calories, url, picture_url, instructions));\n",
    "        conn.commit()"
   ]
  },
  {
   "cell_type": "code",
   "execution_count": null,
   "id": "f3b37f4b",
   "metadata": {},
   "outputs": [],
   "source": [
    "insert_into_db(recipes)"
   ]
  },
  {
   "cell_type": "markdown",
   "id": "0c80b6f7",
   "metadata": {
    "heading_collapsed": true
   },
   "source": [
    "## Testing querying local db "
   ]
  },
  {
   "cell_type": "code",
   "execution_count": null,
   "id": "5228b154",
   "metadata": {
    "hidden": true
   },
   "outputs": [],
   "source": [
    "cur_local.execute('''SELECT *\n",
    "FROM recipes_new\n",
    "WHERE title LIKE '%Brownie%';''')"
   ]
  },
  {
   "cell_type": "code",
   "execution_count": null,
   "id": "aa9e87eb",
   "metadata": {
    "hidden": true
   },
   "outputs": [],
   "source": [
    "rows = cur_local.fetchall()"
   ]
  },
  {
   "cell_type": "code",
   "execution_count": null,
   "id": "7cf4ee3a",
   "metadata": {
    "hidden": true
   },
   "outputs": [],
   "source": [
    "for row in rows:\n",
    "    print(row[6])"
   ]
  },
  {
   "cell_type": "code",
   "execution_count": null,
   "id": "a7d9cceb",
   "metadata": {
    "hidden": true
   },
   "outputs": [],
   "source": [
    "cur_local.execute('''SELECT *\n",
    "FROM recipes_new\n",
    "WHERE ingredients LIKE '%apple%';''')"
   ]
  },
  {
   "cell_type": "code",
   "execution_count": null,
   "id": "02674637",
   "metadata": {
    "hidden": true
   },
   "outputs": [],
   "source": []
  }
 ],
 "metadata": {
  "kernelspec": {
   "display_name": "Python 3 (ipykernel)",
   "language": "python",
   "name": "python3"
  },
  "language_info": {
   "codemirror_mode": {
    "name": "ipython",
    "version": 3
   },
   "file_extension": ".py",
   "mimetype": "text/x-python",
   "name": "python",
   "nbconvert_exporter": "python",
   "pygments_lexer": "ipython3",
   "version": "3.8.6"
  },
  "toc": {
   "base_numbering": 1,
   "nav_menu": {},
   "number_sections": true,
   "sideBar": true,
   "skip_h1_title": false,
   "title_cell": "Table of Contents",
   "title_sidebar": "Contents",
   "toc_cell": false,
   "toc_position": {},
   "toc_section_display": true,
   "toc_window_display": false
  }
 },
 "nbformat": 4,
 "nbformat_minor": 5
}
