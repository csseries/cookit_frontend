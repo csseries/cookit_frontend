{
 "cells": [
  {
   "cell_type": "markdown",
   "id": "ff8f5b64",
   "metadata": {},
   "source": [
    "# PostgreSQL Database"
   ]
  },
  {
   "cell_type": "code",
   "execution_count": 1,
   "id": "19e41efe",
   "metadata": {},
   "outputs": [],
   "source": [
    "import psycopg2\n",
    "import os"
   ]
  },
  {
   "cell_type": "code",
   "execution_count": 2,
   "id": "751940f4",
   "metadata": {},
   "outputs": [],
   "source": [
    "DB_PASSWORD = os.environ['DB_PASSWORD']"
   ]
  },
  {
   "cell_type": "code",
   "execution_count": 3,
   "id": "f28e7b12",
   "metadata": {},
   "outputs": [],
   "source": [
    "conn_local = psycopg2.connect(database=\"cookit\", user = \"lillykaemmerling\", host = \"localhost\", port = \"5432\")"
   ]
  },
  {
   "cell_type": "code",
   "execution_count": 4,
   "id": "2792a47b",
   "metadata": {},
   "outputs": [],
   "source": [
    "cur_local  = conn_local.cursor()"
   ]
  },
  {
   "cell_type": "code",
   "execution_count": null,
   "id": "ea061f74",
   "metadata": {},
   "outputs": [],
   "source": [
    "#Weirdly for me the user is my name normally it should be postgres by default \n",
    "conn = psycopg2.connect(database=\"d1hsr1c7nk56dl\", user = \"iadkkqrgljveni\", host = \"ec2-3-230-61-252.compute-1.amazonaws.com\", port = \"5432\", password=DB_PASSWORD)"
   ]
  },
  {
   "cell_type": "code",
   "execution_count": null,
   "id": "da7e7b11",
   "metadata": {},
   "outputs": [],
   "source": [
    "cur = conn.cursor()"
   ]
  },
  {
   "cell_type": "code",
   "execution_count": null,
   "id": "81bfc207",
   "metadata": {},
   "outputs": [],
   "source": [
    "#Creating the table only ONCE\n",
    "cur_local.execute(\n",
    "    '''CREATE TABLE RECIPES_NEW\n",
    "    (ID INT PRIMARY KEY     NOT NULL,\n",
    "    TITLE           TEXT    NOT NULL,\n",
    "    DIFFICULTY      TEXT,\n",
    "    PREPTIME        TEXT,\n",
    "    LINK TEXT  NOT NULL,\n",
    "    PICTURE_URL     TEXT,\n",
    "    INGREDIENTS     TEXT[]         NOT NULL,\n",
    "    CUISINE         TEXT[]     NOT NULL);''')"
   ]
  },
  {
   "cell_type": "code",
   "execution_count": null,
   "id": "1c941084",
   "metadata": {},
   "outputs": [],
   "source": [
    "#In Postgres we always have to commit \n",
    "conn_local.commit()"
   ]
  },
  {
   "cell_type": "markdown",
   "id": "dbe0a5ba",
   "metadata": {},
   "source": [
    "# Scraping lewagon recipes "
   ]
  },
  {
   "cell_type": "code",
   "execution_count": 5,
   "id": "09b874b3",
   "metadata": {},
   "outputs": [],
   "source": [
    "from bs4 import BeautifulSoup\n",
    "import requests\n",
    "import csv"
   ]
  },
  {
   "cell_type": "markdown",
   "id": "a18a29dd",
   "metadata": {},
   "source": [
    "## Scrape recipe overview"
   ]
  },
  {
   "cell_type": "code",
   "execution_count": 6,
   "id": "0c8b6447",
   "metadata": {},
   "outputs": [],
   "source": [
    "#Scrape the main pages content \n",
    "def scrape_from_internet(pages):\n",
    "\n",
    "    #USE f string to do this for all 63 pages \n",
    "    BASIC_URI = \"https://recipes.lewagon.com/\"\n",
    "    html_content = bytearray()\n",
    "    \n",
    "    #Pagination --> start refers to the page\n",
    "    for i in range(1,pages):\n",
    "        url = f\"{BASIC_URI}?search[query]=&page={i}\"\n",
    "        \n",
    "        response = requests.get(url)\n",
    "\n",
    "        if response.history == []:\n",
    "            html_content += response.content\n",
    "\n",
    "    return str(html_content)"
   ]
  },
  {
   "cell_type": "code",
   "execution_count": 7,
   "id": "fcff9cfa",
   "metadata": {},
   "outputs": [],
   "source": [
    "#parse the main page content \n",
    "def parse(html):\n",
    "    #Return a list from the overview page \n",
    "    #html input = response.content\n",
    "\n",
    "    soup = BeautifulSoup(html, 'html.parser')\n",
    "    #Find all recipes on the specific page\n",
    "    recipes_soup = soup.find_all('div', class_='col-12 col-sm-6 col-md-4 col-lg-3')\n",
    "    \n",
    "    recipe_list = []\n",
    "\n",
    "    for recipe in recipes_soup:\n",
    "        name = recipe.find('p', class_='text-dark text-truncate w-100 font-weight-bold mb-0 recipe-name').text\n",
    "        difficulty = recipe.find('span', class_='recipe-difficulty').text\n",
    "        prep_time = recipe.find('span', class_='recipe-cooktime').text\n",
    "        \n",
    "        #Get the link from data-href to be able to go to the recipe page \n",
    "        recipe_url = recipe.find('div', class_='recipe my-3').attrs['data-href']\n",
    "        \n",
    "        #Get the link to the picture from src \n",
    "        picture_url = recipe.find('img', class_='recipe-img').attrs['src']\n",
    "\n",
    "        recipe_list.append({\"name\": name, \n",
    "                            \"difficulty\": difficulty, \n",
    "                            \"prep_time\": prep_time,\n",
    "                            \"link\": recipe_url,\n",
    "                            \"picture_url\": picture_url})\n",
    "    return recipe_list"
   ]
  },
  {
   "cell_type": "code",
   "execution_count": null,
   "id": "008c123d",
   "metadata": {},
   "outputs": [],
   "source": [
    "recipes = parse(scrape_from_internet(64))"
   ]
  },
  {
   "cell_type": "code",
   "execution_count": null,
   "id": "095c4b7b",
   "metadata": {},
   "outputs": [],
   "source": [
    "#write the parsed content into a csv \n",
    "def write_csv(recipes):\n",
    "    #dump recipes to a CSV file `recipes.csv`\n",
    "    with open(f\"../raw_data/recipes.csv\", \"w\") as csvfile:\n",
    "        writer = csv.DictWriter(csvfile, fieldnames=recipes[0].keys())\n",
    "        writer.writeheader()\n",
    "        for recipe in recipes:\n",
    "            writer.writerow(recipe)"
   ]
  },
  {
   "cell_type": "code",
   "execution_count": null,
   "id": "c1416e4b",
   "metadata": {},
   "outputs": [],
   "source": [
    "write_csv(recipes)"
   ]
  },
  {
   "cell_type": "markdown",
   "id": "fb1d27a8",
   "metadata": {},
   "source": [
    "Now we have the overview of all 750 recipes in a csv\n",
    "As a next step we need to go through this csv/the original dictionnary and scrape every individual recipe link in order to access ingredients & cuisine "
   ]
  },
  {
   "cell_type": "markdown",
   "id": "478a32f4",
   "metadata": {},
   "source": [
    "## Scrape individual recipes "
   ]
  },
  {
   "cell_type": "code",
   "execution_count": 8,
   "id": "3de9a993",
   "metadata": {},
   "outputs": [],
   "source": [
    "import pandas as pd"
   ]
  },
  {
   "cell_type": "code",
   "execution_count": 9,
   "id": "c65bcc34",
   "metadata": {},
   "outputs": [],
   "source": [
    "#scrape the individual recipe \n",
    "def scrape_recipe(url):\n",
    "\n",
    "    html_content = bytearray()\n",
    "    response = requests.get(url)\n",
    "\n",
    "    if response.history == []:\n",
    "        html_content += response.content\n",
    "\n",
    "    return str(html_content)"
   ]
  },
  {
   "cell_type": "code",
   "execution_count": 10,
   "id": "84033efe",
   "metadata": {},
   "outputs": [],
   "source": [
    "def parse(recipe_html):\n",
    "    \n",
    "    #html input = response.content\n",
    "\n",
    "    soup = BeautifulSoup(recipe_html, 'html.parser')\n",
    "    details = {}\n",
    "    \n",
    "    #Find all ingredients on the specific page\n",
    "    ingredients_soup = soup.find_all('div', class_='ingredient')\n",
    "    ingredients = []\n",
    "\n",
    "    for ingredient in ingredients_soup:\n",
    "        description = ingredient.find('p', class_='mb-0').text\n",
    "        ingredients.append(description)\n",
    "        \n",
    "    \n",
    "    #Find all ingredients on the specific page\n",
    "    cuisines = []\n",
    "    cuisines_soup = soup.find_all('span', class_=\"badge badge-success\")\n",
    "    \n",
    "    if cuisines_soup == None:\n",
    "        cuisines.append(\"No cuisine specified\")\n",
    "    else:\n",
    "        for cuisine in cuisines_soup:\n",
    "            cuisines.append(cuisine.text)\n",
    "    \n",
    "    details[\"ingredients\"] = ingredients\n",
    "    details[\"cuisine\"] = cuisines\n",
    "    \n",
    "    return details"
   ]
  },
  {
   "cell_type": "code",
   "execution_count": 11,
   "id": "5487e580",
   "metadata": {},
   "outputs": [],
   "source": [
    "recipe = parse(scrape_recipe(\"https://recipes.lewagon.com/recipes/548\"))"
   ]
  },
  {
   "cell_type": "code",
   "execution_count": 12,
   "id": "180b44ae",
   "metadata": {},
   "outputs": [
    {
     "data": {
      "text/plain": [
       "['2 c. (12 oz. pkg.) semi-sweet chocolate chips',\n",
       " '14 oz. can sweetened condensed milk',\n",
       " '1 t. vanilla extract',\n",
       " '1/8 t. salt',\n",
       " '3 c. mini-marshmallows',\n",
       " '1 1/2 c. toasted, chopped walnuts']"
      ]
     },
     "execution_count": 12,
     "metadata": {},
     "output_type": "execute_result"
    }
   ],
   "source": [
    "recipe[\"ingredients\"]"
   ]
  },
  {
   "cell_type": "markdown",
   "id": "4481a762",
   "metadata": {},
   "source": [
    "TODO: \n",
    "+ Insert insert into csv/ db where this url is present \n",
    "+ additionally split amount and ingredient "
   ]
  },
  {
   "cell_type": "code",
   "execution_count": 13,
   "id": "62785ea5",
   "metadata": {},
   "outputs": [],
   "source": [
    "recipes = pd.read_csv(\"../raw_data/recipes.csv\")"
   ]
  },
  {
   "cell_type": "code",
   "execution_count": 14,
   "id": "2d7970af",
   "metadata": {
    "scrolled": false
   },
   "outputs": [
    {
     "data": {
      "text/html": [
       "<div>\n",
       "<style scoped>\n",
       "    .dataframe tbody tr th:only-of-type {\n",
       "        vertical-align: middle;\n",
       "    }\n",
       "\n",
       "    .dataframe tbody tr th {\n",
       "        vertical-align: top;\n",
       "    }\n",
       "\n",
       "    .dataframe thead th {\n",
       "        text-align: right;\n",
       "    }\n",
       "</style>\n",
       "<table border=\"1\" class=\"dataframe\">\n",
       "  <thead>\n",
       "    <tr style=\"text-align: right;\">\n",
       "      <th></th>\n",
       "      <th>name</th>\n",
       "      <th>difficulty</th>\n",
       "      <th>prep_time</th>\n",
       "      <th>link</th>\n",
       "      <th>picture_url</th>\n",
       "    </tr>\n",
       "  </thead>\n",
       "  <tbody>\n",
       "    <tr>\n",
       "      <th>0</th>\n",
       "      <td>10 Minute Brownies</td>\n",
       "      <td>Moderate</td>\n",
       "      <td>45 min</td>\n",
       "      <td>https://recipes.lewagon.com/recipes/668</td>\n",
       "      <td>https://spoonacular.com/recipeImages/631830-55...</td>\n",
       "    </tr>\n",
       "    <tr>\n",
       "      <th>1</th>\n",
       "      <td>15 Minute Healthy Dark Chocolate Truffles</td>\n",
       "      <td>Very hard</td>\n",
       "      <td>45 min</td>\n",
       "      <td>https://recipes.lewagon.com/recipes/956</td>\n",
       "      <td>https://spoonacular.com/recipeImages/631841-55...</td>\n",
       "    </tr>\n",
       "    <tr>\n",
       "      <th>2</th>\n",
       "      <td>4 Ingredient Chicken Pot Pie</td>\n",
       "      <td>Very easy</td>\n",
       "      <td>45 min</td>\n",
       "      <td>https://recipes.lewagon.com/recipes/970</td>\n",
       "      <td>https://spoonacular.com/recipeImages/631868-55...</td>\n",
       "    </tr>\n",
       "    <tr>\n",
       "      <th>3</th>\n",
       "      <td>4 Ingredient Raw Peanut Butter Chocolate Cups</td>\n",
       "      <td>Moderate</td>\n",
       "      <td>45 min</td>\n",
       "      <td>https://recipes.lewagon.com/recipes/748</td>\n",
       "      <td>https://spoonacular.com/recipeImages/792705-55...</td>\n",
       "    </tr>\n",
       "    <tr>\n",
       "      <th>4</th>\n",
       "      <td>5-Minute Blueberry Chia Jam</td>\n",
       "      <td>Moderate</td>\n",
       "      <td>45 min</td>\n",
       "      <td>https://recipes.lewagon.com/recipes/523</td>\n",
       "      <td>https://spoonacular.com/recipeImages/631880-55...</td>\n",
       "    </tr>\n",
       "  </tbody>\n",
       "</table>\n",
       "</div>"
      ],
      "text/plain": [
       "                                            name difficulty prep_time  \\\n",
       "0                             10 Minute Brownies   Moderate    45 min   \n",
       "1      15 Minute Healthy Dark Chocolate Truffles  Very hard    45 min   \n",
       "2                   4 Ingredient Chicken Pot Pie  Very easy    45 min   \n",
       "3  4 Ingredient Raw Peanut Butter Chocolate Cups   Moderate    45 min   \n",
       "4                    5-Minute Blueberry Chia Jam   Moderate    45 min   \n",
       "\n",
       "                                      link  \\\n",
       "0  https://recipes.lewagon.com/recipes/668   \n",
       "1  https://recipes.lewagon.com/recipes/956   \n",
       "2  https://recipes.lewagon.com/recipes/970   \n",
       "3  https://recipes.lewagon.com/recipes/748   \n",
       "4  https://recipes.lewagon.com/recipes/523   \n",
       "\n",
       "                                         picture_url  \n",
       "0  https://spoonacular.com/recipeImages/631830-55...  \n",
       "1  https://spoonacular.com/recipeImages/631841-55...  \n",
       "2  https://spoonacular.com/recipeImages/631868-55...  \n",
       "3  https://spoonacular.com/recipeImages/792705-55...  \n",
       "4  https://spoonacular.com/recipeImages/631880-55...  "
      ]
     },
     "execution_count": 14,
     "metadata": {},
     "output_type": "execute_result"
    }
   ],
   "source": [
    "recipes.head()"
   ]
  },
  {
   "cell_type": "markdown",
   "id": "02baa8dc",
   "metadata": {},
   "source": [
    "## Insert Recipes into database "
   ]
  },
  {
   "cell_type": "code",
   "execution_count": null,
   "id": "283dabdc",
   "metadata": {},
   "outputs": [],
   "source": [
    "#Based on overview csv file \n",
    "def insert_into_db(recipes):\n",
    "    \n",
    "    for index, row in recipes.iterrows():\n",
    "        primary_key = index\n",
    "        title = row[\"name\"]\n",
    "        difficulty = row[\"difficulty\"]\n",
    "        prep_time = row[\"prep_time\"]\n",
    "        url = row[\"link\"]\n",
    "        picture_url = row[\"picture_url\"]\n",
    "\n",
    "        recipe = parse(scrape_recipe(url))\n",
    "\n",
    "        ingredients = recipe[\"ingredients\"]\n",
    "        cuisine = recipe[\"cuisine\"]\n",
    "        \n",
    "        query = \"\"\"INSERT INTO RECIPES_NEW (ID, TITLE, DIFFICULTY, PREPTIME, LINK, PICTURE_URL, INGREDIENTS, CUISINE)\n",
    "        VALUES(%s, %s, %s, %s, %s, %s, %s, %s)\"\"\"\n",
    "        \n",
    "        cur_local.execute(query, (primary_key, title, difficulty, prep_time, url, picture_url, ingredients, cuisine));\n",
    "        conn_local.commit()"
   ]
  },
  {
   "cell_type": "code",
   "execution_count": null,
   "id": "c1be4178",
   "metadata": {},
   "outputs": [],
   "source": [
    "insert_into_db(recipes.head(20))"
   ]
  },
  {
   "cell_type": "markdown",
   "id": "c204d86a",
   "metadata": {},
   "source": [
    "## Testing querying local db "
   ]
  },
  {
   "cell_type": "code",
   "execution_count": 19,
   "id": "2eea3cd0",
   "metadata": {},
   "outputs": [],
   "source": [
    "cur_local.execute('''SELECT *\n",
    "FROM recipes_new;''')"
   ]
  },
  {
   "cell_type": "code",
   "execution_count": 20,
   "id": "50687eeb",
   "metadata": {},
   "outputs": [],
   "source": [
    "rows = cur_local.fetchall()"
   ]
  },
  {
   "cell_type": "code",
   "execution_count": 21,
   "id": "1ca68504",
   "metadata": {},
   "outputs": [
    {
     "name": "stdout",
     "output_type": "stream",
     "text": [
      "(0, '10 Minute Brownies', 'Moderate', '45 min', 'https://recipes.lewagon.com/recipes/668', 'https://spoonacular.com/recipeImages/631830-556x370.jpg', ['1 teaspoon baking powder', '1/4 cup canola oil', '3/4 cup finely-chopped walnuts', '1 cup semisweet chocolate chips', '3/4 cup sugar', '1 cup unbleached flour', '1/2 cup unsweetened applesauce', '1 teaspoon pure vanilla extract'], ['American'])\n",
      "(1, '15 Minute Healthy Dark Chocolate Truffles', 'Very hard', '45 min', 'https://recipes.lewagon.com/recipes/956', 'https://spoonacular.com/recipeImages/631841-556x370.jpg', ['15 dried dates, pitted', '3/4 cups sliced or slivered almonds', '1/2 cup pecans', '1/4 cup plus 2 tablespoons cocoa powder', '1 teaspoon vanilla extract', '1 tablespoon agave nectar (or honey)', '1/4 teaspoon sea salt', '1 cup hot water', 'Optional: coconut flakes, sprinkles, cocoa powder, or crushed nuts for coating the truffles'], [])\n",
      "(2, '4 Ingredient Chicken Pot Pie', 'Very easy', '45 min', 'https://recipes.lewagon.com/recipes/970', 'https://spoonacular.com/recipeImages/631868-556x370.jpg', ['1 package (15 ounces) refrigerated pie crust (2 crusts)', \"1 can (10 1/2 ounces) Campbell's Chicken Gravy\", '3 cups cooked cut-up vegetables *', '2 ounces cans (4.5 each) Swanson Premium White Chunk Chicken Breast in Water, drained'], [])\n",
      "(3, '4 Ingredient Raw Peanut Butter Chocolate Cups', 'Moderate', '45 min', 'https://recipes.lewagon.com/recipes/748', 'https://spoonacular.com/recipeImages/792705-556x370.jpg', ['2 to 3 tablespoons coconut flour, as needed', '7 oz (200 g) dark chocolate (I used 72% dark), broken into pieces', '2 tablespoons maple syrup', '1 1/3 cups natural crunchy or smooth peanut butter', 'dash of vanilla'], [])\n",
      "(4, '5-Minute Blueberry Chia Jam', 'Moderate', '45 min', 'https://recipes.lewagon.com/recipes/523', 'https://spoonacular.com/recipeImages/631880-556x370.jpg', ['2 cups blueberries (fresh or thawed) (about 270 g)', '2 tbsp chia seeds', '1 tbsp honey/maple syrup', 'Water, just enough to be able to blend (I used about \\\\xc2\\\\xbc cup/60 ml)'], [])\n",
      "(5, '5 Minute Gluten Free Wonder Buns', 'Very hard', '45 min', 'https://recipes.lewagon.com/recipes/621', 'https://spoonacular.com/recipeImages/631874-556x370.jpg', ['1 tablespoon almond meal', '1/2 teaspoon baking powder', '1/2 teaspoon cocoa powder', '1 large egg', '1 tablespoon ground flax seed', '3/4 teaspoon molasses', 'a pinch of salt, optional', 'Sesame seeds', '2 tablespoons sorghum flour'], [])\n",
      "(6, '5-Minute Rocky Road Fudge', 'Moderate', '45 min', 'https://recipes.lewagon.com/recipes/548', 'https://spoonacular.com/recipeImages/631882-556x370.jpg', ['2 c. (12 oz. pkg.) semi-sweet chocolate chips', '14 oz. can sweetened condensed milk', '1 t. vanilla extract', '1/8 t. salt', '3 c. mini-marshmallows', '1 1/2 c. toasted, chopped walnuts'], ['Creole', 'Cajun'])\n",
      "(7, '5 Minute Xocai Chocolate Mug Cake', 'Moderate', '45 min', 'https://recipes.lewagon.com/recipes/449', 'https://spoonacular.com/recipeImages/631879-556x370.jpg', ['3 tbsps dark chocolate (Xocai Sipping Xocolate (optional))', \"2 eggs, we like Eggland's Best eggs\", '4 tbsps flour', '3 tbsps honey', '3 tbsps milk', '1/8 tsp vanilla'], [])\n",
      "(8, 'A Christmas With Peking Duck', 'Very easy', '45 min', 'https://recipes.lewagon.com/recipes/927', 'https://spoonacular.com/recipeImages/631888-556x370.jpg', ['1 teaspoon light corn syrup', '1 (8 -10 lb.) Duck', '1/4 teaspoon five spice powder', 'Hoisin sauce', '1 teaspoon honey', '1 teaspoon rice wine vinegar', '2 teaspoons salt', 'Scallions', '1 gallon boiling water', '1/4 teaspoon white pepper'], ['Asian', 'Chinese'])\n",
      "(9, 'A Classic Caesar Salad', 'Hard', '45 min', 'https://recipes.lewagon.com/recipes/398', 'https://spoonacular.com/recipeImages/631890-556x370.jpg', ['150 g 5oz thickly sliced crusty bread', '2 large egg yolk', '60 ml/4tbsp extra virgin olive oil', '30 ml/2tbsp lemon juice', '5 ml/1tsp English mustard powder', '25 g 1oz freshly grated Parmesan cheese.', '1 head of Romaine lettuce, trimmed and washed', '45 ml/3tbsp sunflower oil', '5 ml/1tsp Tabasco sauce', '2 tsp/10ml Worcestershire sauce'], ['American'])\n",
      "(10, 'African Chicken Peanut Stew', 'Moderate', '45 min', 'https://recipes.lewagon.com/recipes/982', 'https://spoonacular.com/recipeImages/716268-556x370.jpg', ['Bell Peppers for garnishing', '1.5 cups of Chopped Chicken', '2.5 Cooking spoons of oil', '1 teaspoon of Curry', '2 garlic cloves', 'Small piece of Chopped ginger', '1 cup of groundnut (Blended) or 1 Cooking spoon of peanut Butter', '2 handfuls of Chopped onions', 'Pepper', 'Salt', 'Seasoning', '1/2 small sweet potato (Chopped)', 'Pinch of thyme', '1 Chopped small tomato', '1.5 Cooking spoons of Blended tomato'], ['African'])\n",
      "(11, 'All Day Simple Slow-Cooker FALL OFF the BONE Ribs', 'Easy', '45 min', 'https://recipes.lewagon.com/recipes/360', 'https://spoonacular.com/recipeImages/632075-556x370.jpg', ['2 Large Slabs of Pork Ribs', '\\\\xc2\\\\xbc Cup Broth (Beef or Chicken-either works fine, you could even use water)', \"40 oz. Bottle of your favorite BBQ Sauce *I didn't need that much but it's what I had and didn't measure but it leaves extra for dipping.\", 'Salt, Pepper and Garlic Powder to taste'], [])\n",
      "(12, 'Allergy-Free Thin Mints', 'Moderate', '45 min', 'https://recipes.lewagon.com/recipes/396', 'https://spoonacular.com/recipeImages/632085-556x370.jpg', ['1/2 tablespoon baking powder', '3/4 teaspoon baking soda', \"1/4 cup +3 Tablespoons Hershey's \\\\xe2\\\\x80\\\\x9cSpecial Dark\\\\xe2\\\\x80\\\\x9d cocoa powder\", '1/2 cup +2 Tablespoons dairy-free, soy-free vegetable shortening', '5 tablespoons dairy-free, soy-free vegetable shortening', '1 1/2 teaspoons Ener-G egg replacer mixed with 2 Tablespoons water', '1 1/2 cups my Basic Gluten-Free Flour Mix ( or Authen', '3/4 cup granulated sugar', '3 3/4 teaspoons peppermint extract', 'Salt to taste', '2 tablespoons unsweetened applesauce', '2 teaspoons pure vanilla extract', '3/4 teaspoon xanthan gum'], [])\n",
      "(13, 'Almond and cranberry shortbread', 'Very hard', '45 min', 'https://recipes.lewagon.com/recipes/966', 'https://spoonacular.com/recipeImages/632091-556x370.jpg', ['170 g butter, softened, cut into smaller pieces', '125 g icing sugar', '2 egg yolks', '2 tsp lemon juice', '190 g flour', '110 g almonds, finely ground', '110 g cranberries, dried', 'A handful of blanched almonds and / or pistachios, coarsely chopped'], [])\n",
      "(14, 'Almond Butter Slices', 'Hard', '45 min', 'https://recipes.lewagon.com/recipes/438', 'https://spoonacular.com/recipeImages/632103-556x370.jpg', ['100 grams Almond slices', '15 grams Saffron baking powder', '125 grams Kerrygold butter, softened', '300 grams German #405 flour', '150 grams German Quark (or fromage frais)', '90 ml Safflower oil', '1/2 teaspoon salt', '1 1/2 cups sugar', '20 grams Vanilla sugar', '1/2 cup organic whole milk'], ['Southern'])\n",
      "(15, 'Almond Cookie Bar', 'Easy', '45 min', 'https://recipes.lewagon.com/recipes/582', 'https://spoonacular.com/recipeImages/632116-556x370.jpg', ['35g Almond flakes', 'Apricot Gel/Jam, as needed', '25g Brown sugar', '50g Cold butter, cut to cubes', 'Cookie Base', '1 tbsp Fresh milk', '20g Oatmeal Crushed cornflakes', '100g Plain flour', '80g Wholemeal flour'], [])\n",
      "(16, 'Almond Horns', 'Hard', '45 min', 'https://recipes.lewagon.com/recipes/820', 'https://spoonacular.com/recipeImages/632140-556x370.jpg', ['3 tablespoons almond extract', '8 cups Finely chopped blanched almonds', '6 Egg whites', '1 1/2 cups sugar'], [])\n",
      "(17, 'Almond Joy Protein Shake', 'Hard', '45 min', 'https://recipes.lewagon.com/recipes/993', 'https://spoonacular.com/recipeImages/794538-556x370.jpg', ['1 Tablespoon almond butter (or almond flour)', '1/2 cup chocolate almond milk', '1 scoop chocolate protein powder', '1/2 cup coconut milk', '1 Tablespoon unsweetened shredded coconut'], ['Southern'])\n",
      "(18, 'Almond Plum Cake with Creme Fraiche', 'Moderate', '45 min', 'https://recipes.lewagon.com/recipes/266', 'https://spoonacular.com/recipeImages/632169-556x370.jpg', ['1 cup almond paste (9 oz)', '1 teaspoon baking powder', '15 grams Butter', '1 cup cake flour', 'Cr\\\\xc3\\\\xa8me fraiche and slivered almond for serving', '6 eggs, at room temperature', '1 \\\\xc2\\\\xbc cup granulated sugar', '3 large plums (12oz) halved, pitted and cut into \\\\xc2\\\\xbd inch wedges', '\\\\xc2\\\\xbc teaspoon salt', '1 vanilla-bean \\\\xe2\\\\x80\\\\x93 split lengthwise seeds scraped, pod reserved for another use', '1 teaspoon pure vanilla extract'], [])\n",
      "(19, 'Alouette Chicken Paprika', 'Very hard', '45 min', 'https://recipes.lewagon.com/recipes/384', 'https://spoonacular.com/recipeImages/632244-556x370.jpg', ['1 tablespoon butter', '4 boneless chicken breasts halves', '2 teaspoons garlic powder', '1 package (6.5 oz.) Alouette Garlic & Herbs Spreadable Cheese', '1 tablespoon milk', '8 teaspoons paprika'], [])\n"
     ]
    }
   ],
   "source": [
    "for row in rows:\n",
    "    print(row)"
   ]
  },
  {
   "cell_type": "code",
   "execution_count": null,
   "id": "17f900d4",
   "metadata": {},
   "outputs": [],
   "source": []
  }
 ],
 "metadata": {
  "kernelspec": {
   "display_name": "Python 3 (ipykernel)",
   "language": "python",
   "name": "python3"
  },
  "language_info": {
   "codemirror_mode": {
    "name": "ipython",
    "version": 3
   },
   "file_extension": ".py",
   "mimetype": "text/x-python",
   "name": "python",
   "nbconvert_exporter": "python",
   "pygments_lexer": "ipython3",
   "version": "3.8.6"
  },
  "toc": {
   "base_numbering": 1,
   "nav_menu": {},
   "number_sections": true,
   "sideBar": true,
   "skip_h1_title": false,
   "title_cell": "Table of Contents",
   "title_sidebar": "Contents",
   "toc_cell": false,
   "toc_position": {},
   "toc_section_display": true,
   "toc_window_display": false
  }
 },
 "nbformat": 4,
 "nbformat_minor": 5
}
